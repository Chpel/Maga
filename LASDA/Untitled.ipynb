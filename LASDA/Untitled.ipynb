{
 "cells": [
  {
   "cell_type": "code",
   "execution_count": 3,
   "id": "ca978412-00a2-4418-a91c-772c66d0d634",
   "metadata": {},
   "outputs": [],
   "source": [
    "import numpy as np\n",
    "import matplotlib.pyplot as plt"
   ]
  },
  {
   "cell_type": "markdown",
   "id": "dcf00527-3bfb-4b27-a7c7-2f2d8a59d60f",
   "metadata": {},
   "source": [
    "# Задача 1"
   ]
  },
  {
   "cell_type": "code",
   "execution_count": 29,
   "id": "771bf962-f121-478a-86bb-b9aba8e33b99",
   "metadata": {},
   "outputs": [],
   "source": [
    "A = np.array([\n",
    "    [-34,64, 56, 75],\n",
    "    [26, -2, -16, -102],\n",
    "    [-47, -124, -44, 18]\n",
    "])"
   ]
  },
  {
   "cell_type": "code",
   "execution_count": 30,
   "id": "f61b0bb3-4189-44df-9e28-237d4c4faa70",
   "metadata": {},
   "outputs": [
    {
     "data": {
      "text/plain": [
       "array([[14013, -9558, -7452],\n",
       "       [-9558, 11340, -2106],\n",
       "       [-7452, -2106, 19845]])"
      ]
     },
     "execution_count": 30,
     "metadata": {},
     "output_type": "execute_result"
    }
   ],
   "source": [
    "AAT = A @ A.T\n",
    "AAT"
   ]
  },
  {
   "cell_type": "code",
   "execution_count": 49,
   "id": "f6a10086-c42a-43b1-b855-840e6506ab74",
   "metadata": {},
   "outputs": [
    {
     "data": {
      "text/plain": [
       "(array([162., 135.,  27.]),\n",
       " array([[ 0.66666667,  0.33333333,  0.66666667],\n",
       "        [-0.33333333, -0.66666667,  0.66666667],\n",
       "        [-0.66666667,  0.66666667,  0.33333333]]))"
      ]
     },
     "execution_count": 49,
     "metadata": {},
     "output_type": "execute_result"
    }
   ],
   "source": [
    "eig, U = np.linalg.eig(AAT)\n",
    "idx = np.argsort(eig,)[::-1]\n",
    "eig = eig[idx]\n",
    "U = U[:,idx]\n",
    "np.sqrt(eig), U"
   ]
  },
  {
   "cell_type": "code",
   "execution_count": 41,
   "id": "68d2c32a-5f44-499e-b094-228962677ffb",
   "metadata": {},
   "outputs": [
    {
     "data": {
      "text/plain": [
       "array([[-1.69135539e-16,  7.77777778e-01,  4.44444444e-01,\n",
       "         4.44444444e-01],\n",
       "       [-4.44444444e-01, -4.44444444e-01,  3.46944695e-18,\n",
       "         7.77777778e-01],\n",
       "       [-7.77777778e-01, -1.30451205e-15,  4.44444444e-01,\n",
       "        -4.44444444e-01]])"
      ]
     },
     "execution_count": 41,
     "metadata": {},
     "output_type": "execute_result"
    }
   ],
   "source": [
    "Vt = np.diag(1/np.sqrt(eig)) @ U.T @ A\n",
    "Vt"
   ]
  },
  {
   "cell_type": "code",
   "execution_count": 42,
   "id": "c78e8ae2-e6d3-4b72-ba11-992f77596800",
   "metadata": {},
   "outputs": [
    {
     "data": {
      "text/plain": [
       "array([[ -34.,   64.,   56.,   75.],\n",
       "       [  26.,   -2.,  -16., -102.],\n",
       "       [ -47., -124.,  -44.,   18.]])"
      ]
     },
     "execution_count": 42,
     "metadata": {},
     "output_type": "execute_result"
    }
   ],
   "source": [
    "U @ np.diag(np.sqrt(eig)) @ Vt"
   ]
  },
  {
   "cell_type": "code",
   "execution_count": 45,
   "id": "0ee7d567-39a7-4f41-8501-7defa6fe8983",
   "metadata": {},
   "outputs": [
    {
     "data": {
      "text/plain": [
       "array([[ -20.,   64.,   48.,   83.],\n",
       "       [  40.,   -2.,  -24.,  -94.],\n",
       "       [ -40., -124.,  -48.,   22.]])"
      ]
     },
     "execution_count": 45,
     "metadata": {},
     "output_type": "execute_result"
    }
   ],
   "source": [
    "A_1 = U[:,:2] @ np.diag(np.sqrt(eig))[:2,:2] @ Vt[:2,:]\n",
    "A_1"
   ]
  },
  {
   "cell_type": "code",
   "execution_count": 48,
   "id": "eff5f62a-a499-42e8-8607-0ad5fcae834e",
   "metadata": {},
   "outputs": [
    {
     "data": {
      "text/plain": [
       "array([2.70000000e+01, 9.12694660e-14, 7.68463443e-14])"
      ]
     },
     "execution_count": 48,
     "metadata": {},
     "output_type": "execute_result"
    }
   ],
   "source": [
    "Ur, Sr, Vr = np.linalg.svd(A - A_1)\n",
    "Sr"
   ]
  },
  {
   "cell_type": "markdown",
   "id": "3bc6c077-427b-498c-afb8-b6bb0560c00f",
   "metadata": {},
   "source": [
    "# Задача 2"
   ]
  },
  {
   "cell_type": "code",
   "execution_count": 50,
   "id": "657fe844-15ab-4acc-8703-864291835745",
   "metadata": {},
   "outputs": [],
   "source": [
    "A = np.array([\n",
    "    [4.01, -0.16],[5.9, -6.01]\n",
    "])\n",
    "b = np.array([3.81, 0.02])"
   ]
  },
  {
   "cell_type": "code",
   "execution_count": 64,
   "id": "27263111-4fdb-4dde-8097-581af6fc149e",
   "metadata": {},
   "outputs": [
    {
     "data": {
      "text/plain": [
       "array([[ 4., -0.],\n",
       "       [ 6., -6.]])"
      ]
     },
     "execution_count": 64,
     "metadata": {},
     "output_type": "execute_result"
    }
   ],
   "source": [
    "Ah = A.round()\n",
    "Ah"
   ]
  },
  {
   "cell_type": "code",
   "execution_count": 65,
   "id": "e23205fa-d231-473c-9782-55dee75115e0",
   "metadata": {},
   "outputs": [
    {
     "data": {
      "text/plain": [
       "array([[ 2.50000000e-01,  9.25185854e-18],\n",
       "       [ 2.50000000e-01, -1.66666667e-01]])"
      ]
     },
     "execution_count": 65,
     "metadata": {},
     "output_type": "execute_result"
    }
   ],
   "source": [
    "Ar = np.linalg.inv(Ah)\n",
    "Ar"
   ]
  },
  {
   "cell_type": "code",
   "execution_count": 74,
   "id": "266c9a0a-33f1-4bbd-994d-951900b5709a",
   "metadata": {},
   "outputs": [
    {
     "data": {
      "text/plain": [
       "3.3699240762154807"
      ]
     },
     "execution_count": 74,
     "metadata": {},
     "output_type": "execute_result"
    }
   ],
   "source": [
    "np.sqrt(np.linalg.eig(Ah.T @ Ah)[0].max()) * np.sqrt(np.linalg.eig(Ar.T @ Ar)[0].max())"
   ]
  },
  {
   "cell_type": "code",
   "execution_count": 75,
   "id": "d97fd94f-e556-4683-844c-3c5024e5f242",
   "metadata": {},
   "outputs": [
    {
     "data": {
      "text/plain": [
       "array([[-0.01,  0.16],\n",
       "       [ 0.1 ,  0.01]])"
      ]
     },
     "execution_count": 75,
     "metadata": {},
     "output_type": "execute_result"
    }
   ],
   "source": [
    "dA = Ah - A\n",
    "dA"
   ]
  },
  {
   "cell_type": "code",
   "execution_count": 77,
   "id": "baf3fe27-f7c0-4b5c-839b-bd90f1abd758",
   "metadata": {},
   "outputs": [
    {
     "data": {
      "text/plain": [
       "array([0.11, 0.17])"
      ]
     },
     "execution_count": 77,
     "metadata": {},
     "output_type": "execute_result"
    }
   ],
   "source": [
    "abs(dA).sum(axis=0)"
   ]
  },
  {
   "cell_type": "code",
   "execution_count": 81,
   "id": "6a97c6cc-450b-4c73-98d4-4cf55cbf9f62",
   "metadata": {},
   "outputs": [
    {
     "data": {
      "text/plain": [
       "8.96457248821069"
      ]
     },
     "execution_count": 81,
     "metadata": {},
     "output_type": "execute_result"
    }
   ],
   "source": [
    "np.sqrt(np.linalg.eig(A.T @ A)[0].max())"
   ]
  },
  {
   "cell_type": "code",
   "execution_count": 80,
   "id": "268e5fa0-7ca7-4369-ad42-7486190ab118",
   "metadata": {},
   "outputs": [
    {
     "data": {
      "text/plain": [
       "0.014273719563392108"
      ]
     },
     "execution_count": 80,
     "metadata": {},
     "output_type": "execute_result"
    }
   ],
   "source": [
    "0.17/11.91"
   ]
  },
  {
   "cell_type": "code",
   "execution_count": 89,
   "id": "18da8d9a-28e9-46ec-867f-b9e3be779a78",
   "metadata": {},
   "outputs": [
    {
     "data": {
      "text/plain": [
       "0.054830287206266315"
      ]
     },
     "execution_count": 89,
     "metadata": {},
     "output_type": "execute_result"
    }
   ],
   "source": [
    "0.21/3.83"
   ]
  },
  {
   "cell_type": "code",
   "execution_count": 79,
   "id": "745aebdf-8d62-4539-bdc1-6e3d0c03338b",
   "metadata": {},
   "outputs": [
    {
     "data": {
      "text/plain": [
       "0.0178402723141327"
      ]
     },
     "execution_count": 79,
     "metadata": {},
     "output_type": "execute_result"
    }
   ],
   "source": [
    "np.sqrt(np.linalg.eig(dA.T @ dA)[0].max()) / 8.99"
   ]
  },
  {
   "cell_type": "code",
   "execution_count": 87,
   "id": "44403890-ee8e-4bc8-bee6-270b85d24958",
   "metadata": {},
   "outputs": [
    {
     "data": {
      "text/plain": [
       "3.8100524930767032"
      ]
     },
     "execution_count": 87,
     "metadata": {},
     "output_type": "execute_result"
    }
   ],
   "source": [
    "v = np.array([3.81,0.02])\n",
    "np.linalg.norm(v,2)"
   ]
  },
  {
   "cell_type": "code",
   "execution_count": null,
   "id": "1fcad875-38af-4f40-b5ab-4067206e4b38",
   "metadata": {},
   "outputs": [],
   "source": []
  },
  {
   "cell_type": "markdown",
   "id": "1c675190-5a12-4a57-8d64-da72c6899696",
   "metadata": {},
   "source": [
    "# Задача 4"
   ]
  },
  {
   "cell_type": "code",
   "execution_count": 97,
   "id": "242f959b-9547-4685-95fc-fb398351343b",
   "metadata": {},
   "outputs": [
    {
     "data": {
      "text/plain": [
       "array([[5, 8],\n",
       "       [9, 6]])"
      ]
     },
     "execution_count": 97,
     "metadata": {},
     "output_type": "execute_result"
    }
   ],
   "source": [
    "A = np.array([\n",
    "    [5,8],\n",
    "    [9,6]\n",
    "])\n",
    "A"
   ]
  },
  {
   "cell_type": "code",
   "execution_count": 98,
   "id": "03c7d628-c461-4eed-a5b6-c44ef610ad33",
   "metadata": {},
   "outputs": [
    {
     "data": {
      "text/plain": [
       "array([[-6.,  8.],\n",
       "       [ 9., -5.]])"
      ]
     },
     "execution_count": 98,
     "metadata": {},
     "output_type": "execute_result"
    }
   ],
   "source": [
    "np.linalg.inv(A) * 42"
   ]
  },
  {
   "cell_type": "code",
   "execution_count": 99,
   "id": "69f46325-218b-4a75-9473-bdbe2c630514",
   "metadata": {},
   "outputs": [
    {
     "data": {
      "text/plain": [
       "0.007194244604316546"
      ]
     },
     "execution_count": 99,
     "metadata": {},
     "output_type": "execute_result"
    }
   ],
   "source": [
    "0.02*15/42 / (1 - 0.02*15/42)"
   ]
  },
  {
   "cell_type": "markdown",
   "id": "43ef0e23-01e7-4500-a4d9-e75a04d83a51",
   "metadata": {},
   "source": [
    "# Задача 3"
   ]
  },
  {
   "cell_type": "code",
   "execution_count": 172,
   "id": "6bc5ed20-cb44-4da5-ae0a-ea7f193de866",
   "metadata": {},
   "outputs": [],
   "source": [
    "A = np.array([\n",
    "    [-16,-8],\n",
    "    [-2,-4]\n",
    "])\n",
    "b=np.array([1,-4])"
   ]
  },
  {
   "cell_type": "code",
   "execution_count": 173,
   "id": "ebea14b2-5ba3-49f0-82f0-cb1f0a2efc25",
   "metadata": {},
   "outputs": [
    {
     "data": {
      "text/plain": [
       "array([-6., 11.])"
      ]
     },
     "execution_count": 173,
     "metadata": {},
     "output_type": "execute_result"
    }
   ],
   "source": [
    "np.linalg.solve(A,b) * 8"
   ]
  },
  {
   "cell_type": "code",
   "execution_count": 174,
   "id": "43624061-a43b-4ad9-b093-f7d47c685d93",
   "metadata": {},
   "outputs": [
    {
     "data": {
      "text/plain": [
       "array([[-0.08333333,  0.16666667],\n",
       "       [ 0.04166667, -0.33333333]])"
      ]
     },
     "execution_count": 174,
     "metadata": {},
     "output_type": "execute_result"
    }
   ],
   "source": [
    "A_inv = np.linalg.inv(A)\n",
    "A_inv"
   ]
  },
  {
   "cell_type": "code",
   "execution_count": 175,
   "id": "c17dc924-fe0f-4e6e-a967-c9c9e7786181",
   "metadata": {},
   "outputs": [
    {
     "data": {
      "text/plain": [
       "18.250556184817203"
      ]
     },
     "execution_count": 175,
     "metadata": {},
     "output_type": "execute_result"
    }
   ],
   "source": [
    "np.sqrt(np.linalg.eig(A.T @ A)[0].max())"
   ]
  },
  {
   "cell_type": "code",
   "execution_count": 157,
   "id": "9d8506d0-892b-4db2-b58f-6ea6cfb9f0ce",
   "metadata": {},
   "outputs": [
    {
     "data": {
      "text/plain": [
       "6.939225021982697"
      ]
     },
     "execution_count": 157,
     "metadata": {},
     "output_type": "execute_result"
    }
   ],
   "source": [
    "18.250556184817203 * 0.3802199205170251"
   ]
  },
  {
   "cell_type": "code",
   "execution_count": 176,
   "id": "7e936f22-5499-4f2b-9565-d228f8c2daa0",
   "metadata": {},
   "outputs": [
    {
     "data": {
      "text/plain": [
       "0.3802199205170251"
      ]
     },
     "execution_count": 176,
     "metadata": {},
     "output_type": "execute_result"
    }
   ],
   "source": [
    "np.sqrt(np.linalg.eig(A_inv.T @ A_inv)[0].max())"
   ]
  },
  {
   "cell_type": "code",
   "execution_count": 158,
   "id": "d687831c-86c9-4ac0-978a-62ff7db0efd5",
   "metadata": {},
   "outputs": [
    {
     "data": {
      "text/plain": [
       "0.323606797749979"
      ]
     },
     "execution_count": 158,
     "metadata": {},
     "output_type": "execute_result"
    }
   ],
   "source": [
    "dA = np.array([\n",
    "    [0.2, 0.2],\n",
    "    [0,0.2]\n",
    "])\n",
    "np.sqrt(np.linalg.eig(dA.T @ dA)[0].max())"
   ]
  },
  {
   "cell_type": "code",
   "execution_count": 178,
   "id": "4159578f-65e6-489a-9e28-d03ef15be8bc",
   "metadata": {},
   "outputs": [
    {
     "data": {
      "text/plain": [
       "0.01773133895060088"
      ]
     },
     "execution_count": 178,
     "metadata": {},
     "output_type": "execute_result"
    }
   ],
   "source": [
    "0.323606797749979 / 18.250556184817203"
   ]
  },
  {
   "cell_type": "code",
   "execution_count": 177,
   "id": "24ce90ce-43f0-4f0f-bbdd-8f12f23472d8",
   "metadata": {},
   "outputs": [
    {
     "data": {
      "text/plain": [
       "0.016666666666666666"
      ]
     },
     "execution_count": 177,
     "metadata": {},
     "output_type": "execute_result"
    }
   ],
   "source": [
    "0.4 /  24"
   ]
  },
  {
   "cell_type": "code",
   "execution_count": 165,
   "id": "04ea8c66-4aad-47f7-951f-0184c3a0fe4a",
   "metadata": {},
   "outputs": [
    {
     "data": {
      "text/plain": [
       "0.017149858514250885"
      ]
     },
     "execution_count": 165,
     "metadata": {},
     "output_type": "execute_result"
    }
   ],
   "source": [
    "0.05 * np.sqrt(2) / np.sqrt(17)"
   ]
  },
  {
   "cell_type": "code",
   "execution_count": 162,
   "id": "fabd2ee2-1c63-417f-8fde-96cca84b7ef8",
   "metadata": {},
   "outputs": [
    {
     "data": {
      "text/plain": [
       "0.0125"
      ]
     },
     "execution_count": 162,
     "metadata": {},
     "output_type": "execute_result"
    }
   ],
   "source": [
    "0.05 / 4"
   ]
  },
  {
   "cell_type": "code",
   "execution_count": 181,
   "id": "4ee74f03-a781-4616-9842-152ad70cff32",
   "metadata": {},
   "outputs": [
    {
     "data": {
      "text/plain": [
       "0.2783676920967226"
      ]
     },
     "execution_count": 181,
     "metadata": {},
     "output_type": "execute_result"
    }
   ],
   "source": [
    "(0.018 + 0.0171) / (1 - 0.018 * 6.94) * 6.94"
   ]
  },
  {
   "cell_type": "code",
   "execution_count": 182,
   "id": "0e8a6784-0559-403a-81b2-b9417feea247",
   "metadata": {},
   "outputs": [
    {
     "data": {
      "text/plain": [
       "0.3134592680047226"
      ]
     },
     "execution_count": 182,
     "metadata": {},
     "output_type": "execute_result"
    }
   ],
   "source": [
    "(0.017 + 0.0125) / (1 - 0.017 * 9) * 9"
   ]
  },
  {
   "cell_type": "markdown",
   "id": "021ffe29-061c-4fd1-b6c1-a87e241eb51b",
   "metadata": {},
   "source": [
    "# Задача 5"
   ]
  },
  {
   "cell_type": "code",
   "execution_count": 20,
   "id": "0b7b6709-7297-4036-b1ee-5221ed3eef12",
   "metadata": {},
   "outputs": [
    {
     "data": {
      "text/plain": [
       "(array([[ 0.        , -0.2       , -0.28      ],\n",
       "        [-0.16666667,  0.        , -0.25      ],\n",
       "        [-0.16666667, -0.04166667,  0.        ]]),\n",
       " array([0.32      , 0.04166667, 0.29166667]))"
      ]
     },
     "execution_count": 20,
     "metadata": {},
     "output_type": "execute_result"
    }
   ],
   "source": [
    "A = np.array([\n",
    "    [25,5,7],\n",
    "    [4,24,6],\n",
    "    [4,1,24]\n",
    "])\n",
    "b = np.array([8,1,7])\n",
    "\n",
    "D = np.diag(A)\n",
    "revD = np.diag(1/D)\n",
    "Bmat = revD @ (np.diag(D) - A)\n",
    "bnew = b / D\n",
    "Bmat, bnew"
   ]
  },
  {
   "cell_type": "code",
   "execution_count": 24,
   "id": "5c7b3c80-7aed-49de-b94b-fc8425f50e12",
   "metadata": {},
   "outputs": [
    {
     "name": "stdout",
     "output_type": "stream",
     "text": [
      "[ 0.26384525 -0.0637607   0.25127863] 5\n"
     ]
    }
   ],
   "source": [
    "x0 = np.array([0,0,0])\n",
    "x = x0.copy()\n",
    "first = True\n",
    "i = 0\n",
    "while not np.allclose(x,x0, atol=1e-2) or first:\n",
    "    first=False\n",
    "    x0 = x.copy()\n",
    "    i += 1\n",
    "    x = Bmat @ x0 + bnew\n",
    "print(x, i)"
   ]
  },
  {
   "cell_type": "code",
   "execution_count": 25,
   "id": "e285d06a-bf6b-40dc-a80f-7b8cd1266efc",
   "metadata": {},
   "outputs": [
    {
     "data": {
      "text/plain": [
       "array([ 0.26279632, -0.06477427,  0.25056621])"
      ]
     },
     "execution_count": 25,
     "metadata": {},
     "output_type": "execute_result"
    }
   ],
   "source": [
    "np.linalg.solve(A,b)"
   ]
  },
  {
   "cell_type": "markdown",
   "id": "e44c5b45-3712-4e1f-9b4e-98e21f6ec75c",
   "metadata": {},
   "source": [
    "# Задача 6"
   ]
  },
  {
   "cell_type": "code",
   "execution_count": 130,
   "id": "11922111-6e86-45e6-8115-9ac6db9d49ef",
   "metadata": {},
   "outputs": [
    {
     "data": {
      "text/plain": [
       "array([[0.33333333, 0.33333333, 0.        , 0.        , 0.        ],\n",
       "       [0.33333333, 0.        , 0.        , 0.        , 0.        ],\n",
       "       [0.        , 0.        , 0.5       , 0.        , 0.5       ],\n",
       "       [0.33333333, 0.33333333, 0.5       , 0.5       , 0.        ],\n",
       "       [0.        , 0.33333333, 0.        , 0.5       , 0.5       ]])"
      ]
     },
     "execution_count": 130,
     "metadata": {},
     "output_type": "execute_result"
    }
   ],
   "source": [
    "A = np.array([\n",
    "    [1,0,1,1,1],\n",
    "    [0,1,0,1,1],\n",
    "    [0,0,1,0,1],\n",
    "    [0,0,1,0,0],\n",
    "    [0,1,0,0,0]\n",
    "])\n",
    "A = np.array([\n",
    "    [1, 1, 0, 0, 0],\n",
    "    [1, 0, 0, 0, 0],\n",
    "    [0, 0, 1, 0, 1],\n",
    "    [1, 1, 1, 1, 0],\n",
    "    [0, 1, 0, 1, 1]\n",
    "])\n",
    "alpha = 0.85\n",
    "beta = 1. - alpha\n",
    "P = A / A.sum(axis=0)\n",
    "P"
   ]
  },
  {
   "cell_type": "code",
   "execution_count": 131,
   "id": "2961d648-2730-4e9f-8af8-9d2929919d33",
   "metadata": {},
   "outputs": [
    {
     "name": "stdout",
     "output_type": "stream",
     "text": [
      "[0.07117365 0.05545998 0.32635133 0.36499646 0.35848917]\n"
     ]
    }
   ],
   "source": [
    "x_rand = np.ones(5) / 5\n",
    "x0 = x_rand.copy()\n",
    "x = x0.copy()\n",
    "for i in range(200):\n",
    "    x = alpha * P @ x0 + beta * x_rand\n",
    "    x0 = x.copy()\n",
    "print(x / alpha)"
   ]
  },
  {
   "cell_type": "code",
   "execution_count": 183,
   "id": "7a4c14d1-3427-4711-8295-29116a60ff9d",
   "metadata": {},
   "outputs": [],
   "source": [
    "# Задача 7"
   ]
  },
  {
   "cell_type": "code",
   "execution_count": 192,
   "id": "f66f3dcc-0fd4-432a-977a-b374b341993f",
   "metadata": {},
   "outputs": [
    {
     "name": "stdout",
     "output_type": "stream",
     "text": [
      "[[-4.35274546e+10 -5.21564488e+14  5.21619464e+14]\n",
      " [-5.49755814e+10  2.08516989e+15 -2.08510347e+15]\n",
      " [-5.49755814e+10  1.56381386e+15 -1.56374743e+15]]\n"
     ]
    }
   ],
   "source": [
    "A = np.array([\n",
    "    [0, -7, 8],\n",
    "    [-1,9,-7],\n",
    "    [-1,5,-3]\n",
    "])\n",
    "x = A + np.eye(3) * 3\n",
    "s = np.zeros(x.shape)\n",
    "i = 1\n",
    "x_n = np.eye(3)\n",
    "for i in range(1,20):\n",
    "    x_n = x_n @ x\n",
    "    t0 = (-1) ** (i+1) * x_n / i\n",
    "    s += t0\n",
    "    i += 1\n",
    "    if np.allclose(t0, np.zeros(t0.shape), atol=1e-5):\n",
    "        break\n",
    "print(s)"
   ]
  },
  {
   "cell_type": "code",
   "execution_count": 193,
   "id": "53171219-78e2-41a4-a3f2-4771e6e5e04f",
   "metadata": {},
   "outputs": [
    {
     "data": {
      "text/plain": [
       "EigResult(eigenvalues=array([1.+6.06273063e-08j, 1.-6.06273063e-08j, 4.+0.00000000e+00j]), eigenvectors=array([[ 0.57735027+0.00000000e+00j,  0.57735027-0.00000000e+00j,\n",
       "         0.19611614+0.00000000e+00j],\n",
       "       [ 0.57735027+3.50031916e-08j,  0.57735027-3.50031916e-08j,\n",
       "        -0.78446454+0.00000000e+00j],\n",
       "       [ 0.57735027+3.50031916e-08j,  0.57735027-3.50031916e-08j,\n",
       "        -0.58834841+0.00000000e+00j]]))"
      ]
     },
     "execution_count": 193,
     "metadata": {},
     "output_type": "execute_result"
    }
   ],
   "source": [
    "np.linalg.eig(A)"
   ]
  },
  {
   "cell_type": "code",
   "execution_count": null,
   "id": "398e309e-6791-4b8e-a240-08c0827c29f6",
   "metadata": {},
   "outputs": [],
   "source": []
  }
 ],
 "metadata": {
  "kernelspec": {
   "display_name": "Python 3 (ipykernel)",
   "language": "python",
   "name": "python3"
  },
  "language_info": {
   "codemirror_mode": {
    "name": "ipython",
    "version": 3
   },
   "file_extension": ".py",
   "mimetype": "text/x-python",
   "name": "python",
   "nbconvert_exporter": "python",
   "pygments_lexer": "ipython3",
   "version": "3.9.18"
  }
 },
 "nbformat": 4,
 "nbformat_minor": 5
}
