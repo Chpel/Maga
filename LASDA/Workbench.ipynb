{
 "cells": [
  {
   "cell_type": "code",
   "execution_count": 1,
   "id": "e90640a5",
   "metadata": {},
   "outputs": [],
   "source": [
    "import numpy as np\n",
    "import matplotlib.pyplot as plt"
   ]
  },
  {
   "cell_type": "code",
   "execution_count": 2,
   "id": "36b06dac",
   "metadata": {},
   "outputs": [
    {
     "data": {
      "text/plain": [
       "array([[ 2, -1],\n",
       "       [ 4, -2]])"
      ]
     },
     "execution_count": 2,
     "metadata": {},
     "output_type": "execute_result"
    }
   ],
   "source": [
    "A = np.array([[2,-1],[4,-2]])\n",
    "A"
   ]
  },
  {
   "cell_type": "code",
   "execution_count": 3,
   "id": "5dd4afa8",
   "metadata": {},
   "outputs": [
    {
     "data": {
      "text/plain": [
       "array([[ 0.08,  0.16],\n",
       "       [-0.04, -0.08]])"
      ]
     },
     "execution_count": 3,
     "metadata": {},
     "output_type": "execute_result"
    }
   ],
   "source": [
    "Ap = A.T / 25\n",
    "Ap"
   ]
  },
  {
   "cell_type": "code",
   "execution_count": 6,
   "id": "20c6badf",
   "metadata": {},
   "outputs": [
    {
     "data": {
      "text/plain": [
       "array([[16.],\n",
       "       [-8.]])"
      ]
     },
     "execution_count": 6,
     "metadata": {},
     "output_type": "execute_result"
    }
   ],
   "source": [
    "Ap @ np.array([[0],[4]]) * 25"
   ]
  },
  {
   "cell_type": "code",
   "execution_count": 4,
   "id": "d2fa1c7d",
   "metadata": {},
   "outputs": [
    {
     "name": "stdout",
     "output_type": "stream",
     "text": [
      "True\n",
      "True\n",
      "True\n",
      "True\n"
     ]
    }
   ],
   "source": [
    "print(np.allclose(Ap @ A @ Ap, Ap))\n",
    "print(np.allclose(A @ Ap @ A, A))\n",
    "print(np.allclose((A @ Ap).T, A @ Ap))\n",
    "print(np.allclose((Ap @ A).T, Ap @ A))"
   ]
  },
  {
   "cell_type": "code",
   "execution_count": 54,
   "id": "d85b72f1",
   "metadata": {},
   "outputs": [],
   "source": [
    "F = np.array([[1,0],[0,1],[1,-1]])\n",
    "G = np.array([[1,0,1],[0,1,1]])"
   ]
  },
  {
   "cell_type": "code",
   "execution_count": 55,
   "id": "0631c261",
   "metadata": {},
   "outputs": [
    {
     "data": {
      "text/plain": [
       "array([[ 1,  0,  1],\n",
       "       [ 0,  1,  1],\n",
       "       [ 1, -1,  0]])"
      ]
     },
     "execution_count": 55,
     "metadata": {},
     "output_type": "execute_result"
    }
   ],
   "source": [
    "F @ G"
   ]
  },
  {
   "cell_type": "code",
   "execution_count": 60,
   "id": "d995ae3c",
   "metadata": {},
   "outputs": [
    {
     "data": {
      "text/plain": [
       "array([[ 0.66666667, -0.33333333],\n",
       "       [-0.33333333,  0.66666667]])"
      ]
     },
     "execution_count": 60,
     "metadata": {},
     "output_type": "execute_result"
    }
   ],
   "source": [
    "np.linalg.inv(G @ G.T)"
   ]
  },
  {
   "cell_type": "code",
   "execution_count": 57,
   "id": "83317c7f",
   "metadata": {},
   "outputs": [
    {
     "data": {
      "text/plain": [
       "array([[ 2, -1],\n",
       "       [-1,  2]])"
      ]
     },
     "execution_count": 57,
     "metadata": {},
     "output_type": "execute_result"
    }
   ],
   "source": [
    "F.T @ F"
   ]
  },
  {
   "cell_type": "markdown",
   "id": "5013e8b4",
   "metadata": {},
   "source": [
    "# Дз 2.2"
   ]
  },
  {
   "cell_type": "code",
   "execution_count": 27,
   "id": "78fad31e",
   "metadata": {},
   "outputs": [],
   "source": [
    "X = np.array([[0, 5, 10, 12, 14]])\n",
    "Y = np.array([[25931, 25780, 25832, 25833, 26540]])"
   ]
  },
  {
   "cell_type": "code",
   "execution_count": 28,
   "id": "8e48007e",
   "metadata": {},
   "outputs": [
    {
     "data": {
      "text/plain": [
       "array([[ 1.,  0.],\n",
       "       [ 1.,  5.],\n",
       "       [ 1., 10.],\n",
       "       [ 1., 12.],\n",
       "       [ 1., 14.]])"
      ]
     },
     "execution_count": 28,
     "metadata": {},
     "output_type": "execute_result"
    }
   ],
   "source": [
    "X = np.concatenate([np.ones((1,5)), X], axis=0).T\n",
    "X"
   ]
  },
  {
   "cell_type": "code",
   "execution_count": 37,
   "id": "dec27bc6",
   "metadata": {},
   "outputs": [],
   "source": [
    "res = np.linalg.inv(X.T @ X) @ X.T @ Y.T"
   ]
  },
  {
   "cell_type": "code",
   "execution_count": 29,
   "id": "5170630a",
   "metadata": {},
   "outputs": [
    {
     "data": {
      "text/plain": [
       "array([[25762.61490683],\n",
       "       [   26.90062112]])"
      ]
     },
     "execution_count": 29,
     "metadata": {},
     "output_type": "execute_result"
    }
   ],
   "source": [
    "np.linalg.pinv(X) @ Y.T"
   ]
  },
  {
   "cell_type": "code",
   "execution_count": 39,
   "id": "1661ba9c",
   "metadata": {},
   "outputs": [
    {
     "data": {
      "text/plain": [
       "array([26327.52795031])"
      ]
     },
     "execution_count": 39,
     "metadata": {},
     "output_type": "execute_result"
    }
   ],
   "source": [
    "np.array([1,21]) @ res "
   ]
  },
  {
   "cell_type": "code",
   "execution_count": 48,
   "id": "eb759c7c",
   "metadata": {},
   "outputs": [],
   "source": [
    "A = np.array([[2,8],[1,0],[0,1]])\n",
    "b = np.array([[10,0,0]]).T"
   ]
  },
  {
   "cell_type": "code",
   "execution_count": 49,
   "id": "4ca3962d",
   "metadata": {},
   "outputs": [
    {
     "data": {
      "text/plain": [
       "array([[0.28985507],\n",
       "       [1.15942029]])"
      ]
     },
     "execution_count": 49,
     "metadata": {},
     "output_type": "execute_result"
    }
   ],
   "source": [
    "np.linalg.inv(A.T @ A) @ A.T @ b"
   ]
  },
  {
   "cell_type": "code",
   "execution_count": 46,
   "id": "718766a4",
   "metadata": {},
   "outputs": [
    {
     "data": {
      "text/plain": [
       "array([[ 0.94202899, -0.23188406],\n",
       "       [-0.23188406,  0.07246377]])"
      ]
     },
     "execution_count": 46,
     "metadata": {},
     "output_type": "execute_result"
    }
   ],
   "source": [
    "np.array([[-3 + 17*16/69, 1 - 17*5/69],[16/-69, 5/69]])"
   ]
  },
  {
   "cell_type": "code",
   "execution_count": 45,
   "id": "f3d925be",
   "metadata": {},
   "outputs": [
    {
     "data": {
      "text/plain": [
       "-69"
      ]
     },
     "execution_count": 45,
     "metadata": {},
     "output_type": "execute_result"
    }
   ],
   "source": [
    "16 - 17*5"
   ]
  },
  {
   "cell_type": "code",
   "execution_count": 58,
   "id": "3d6c4442",
   "metadata": {},
   "outputs": [
    {
     "data": {
      "text/plain": [
       "<matplotlib.collections.PathCollection at 0x19590904a00>"
      ]
     },
     "execution_count": 58,
     "metadata": {},
     "output_type": "execute_result"
    },
    {
     "data": {
      "image/png": "[encoded data removed]",
      "text/plain": [
       "<Figure size 432x288 with 1 Axes>"
      ]
     },
     "metadata": {
      "needs_background": "light"
     },
     "output_type": "display_data"
    }
   ],
   "source": [
    "x = np.linspace(-5,5,20)\n",
    "plt.plot(x, (2*x+10)/8)\n",
    "plt.plot([0]*x.shape[0], x)\n",
    "plt.plot(x, [0]*x.shape[0])\n",
    "plt.scatter([0.29],[1.16])"
   ]
  },
  {
   "cell_type": "code",
   "execution_count": 60,
   "id": "fb268e02",
   "metadata": {},
   "outputs": [
    {
     "data": {
      "text/plain": [
       "42"
      ]
     },
     "execution_count": 60,
     "metadata": {},
     "output_type": "execute_result"
    }
   ],
   "source": [
    "(np.array([1,2,3]*3) ** 2).sum()"
   ]
  },
  {
   "cell_type": "code",
   "execution_count": 61,
   "id": "deb5bf75",
   "metadata": {},
   "outputs": [
    {
     "data": {
      "text/plain": [
       "6.0"
      ]
     },
     "execution_count": 61,
     "metadata": {},
     "output_type": "execute_result"
    }
   ],
   "source": [
    "3/7 + 2 * 6/7 + 3 * 9 / 7"
   ]
  },
  {
   "cell_type": "code",
   "execution_count": 63,
   "id": "b4124409",
   "metadata": {},
   "outputs": [
    {
     "data": {
      "text/plain": [
       "1.6035674514745464"
      ]
     },
     "execution_count": 63,
     "metadata": {},
     "output_type": "execute_result"
    }
   ],
   "source": [
    "np.linalg.norm(np.array([3/7, 6/7, 9/7]))"
   ]
  },
  {
   "cell_type": "markdown",
   "id": "48d937b2",
   "metadata": {},
   "source": [
    "# ДЗ 3.2"
   ]
  },
  {
   "cell_type": "code",
   "execution_count": 2,
   "id": "d71e1439",
   "metadata": {},
   "outputs": [],
   "source": [
    "from scipy.linalg import lu_factor"
   ]
  },
  {
   "cell_type": "code",
   "execution_count": 3,
   "id": "625be71c",
   "metadata": {},
   "outputs": [
    {
     "data": {
      "text/plain": [
       "array([[ 2. ,  3. ,  4. ],\n",
       "       [-0.5, -0.5, -1. ],\n",
       "       [ 0. , -0. ,  1. ]])"
      ]
     },
     "execution_count": 3,
     "metadata": {},
     "output_type": "execute_result"
    }
   ],
   "source": [
    "A = np.array([[2,3,4],[-1,-2,-3],[0,0,1]])\n",
    "lu_factor(A)[0]"
   ]
  },
  {
   "cell_type": "markdown",
   "id": "95097479",
   "metadata": {},
   "source": [
    "# ДЗ 4.1"
   ]
  },
  {
   "cell_type": "code",
   "execution_count": 5,
   "id": "54f9e20e",
   "metadata": {},
   "outputs": [],
   "source": [
    "def pol4(a, x):\n",
    "    return a[0] + a[1] * x + a[2] * x ** 2 + a[3] * x ** 3\n",
    "\n",
    "def pol4_der(a,x):\n",
    "    return a[1] + a[2] * 2 * x + a[3] * 3 * x ** 2"
   ]
  },
  {
   "cell_type": "code",
   "execution_count": 8,
   "id": "ade2a1cf",
   "metadata": {},
   "outputs": [
    {
     "name": "stdout",
     "output_type": "stream",
     "text": [
      "2.0\n",
      "-3.0\n",
      "17.0\n",
      "-18.999999999999993\n"
     ]
    }
   ],
   "source": [
    "a = [2, 6.5, 6 + 1/3, 13/6]\n",
    "print(pol4(a,0),pol4(a,-2),pol4(a,1),pol4(a,-3), sep='\\n')"
   ]
  },
  {
   "cell_type": "code",
   "execution_count": 9,
   "id": "80e6d2f6",
   "metadata": {},
   "outputs": [
    {
     "name": "stdout",
     "output_type": "stream",
     "text": [
      "-1\n",
      "5\n",
      "0\n",
      "-1\n"
     ]
    }
   ],
   "source": [
    "a = [0,-1,-6,6]\n",
    "print(pol4(a,1),pol4_der(a,1),pol4(a,0),pol4_der(a,0), sep='\\n')"
   ]
  },
  {
   "cell_type": "markdown",
   "id": "8acf9e72",
   "metadata": {},
   "source": [
    "# ДЗ 4.2"
   ]
  },
  {
   "cell_type": "code",
   "execution_count": 44,
   "id": "a5a5c8dc",
   "metadata": {},
   "outputs": [],
   "source": [
    "p0 = np.array([[0,0]]).T\n",
    "p1 = np.array([[5,0]]).T\n",
    "p2 = np.array([[2,4]]).T\n",
    "p3 = np.array([[0,0]]).T"
   ]
  },
  {
   "cell_type": "code",
   "execution_count": 45,
   "id": "9d0f9575",
   "metadata": {},
   "outputs": [],
   "source": [
    "x = np.linspace(0,1,100)"
   ]
  },
  {
   "cell_type": "code",
   "execution_count": 46,
   "id": "35ce2b50",
   "metadata": {},
   "outputs": [],
   "source": [
    "def bezier(p0, p1, t):\n",
    "    t = t.reshape(1,t.shape[0])\n",
    "    return p0 * (1-t) + p1 * t"
   ]
  },
  {
   "cell_type": "code",
   "execution_count": 50,
   "id": "e1b0492d",
   "metadata": {},
   "outputs": [],
   "source": [
    "B1 = bezier(p0, p1, x)\n",
    "B2 = bezier(p1, p2, x)\n",
    "B3 = bezier(p2, p3, x)"
   ]
  },
  {
   "cell_type": "code",
   "execution_count": 57,
   "id": "a444688a",
   "metadata": {},
   "outputs": [
    {
     "data": {
      "image/png": "[encoded data removed]",
      "text/plain": [
       "<Figure size 432x288 with 1 Axes>"
      ]
     },
     "metadata": {
      "needs_background": "light"
     },
     "output_type": "display_data"
    }
   ],
   "source": [
    "plt.plot(*B1);\n",
    "plt.plot(*B2);\n",
    "plt.plot(*B3);\n",
    "plt.plot(*B4);\n",
    "plt.plot(*B5);\n",
    "plt.plot(*B6);"
   ]
  },
  {
   "cell_type": "code",
   "execution_count": 52,
   "id": "de87a962",
   "metadata": {},
   "outputs": [],
   "source": [
    "B4 = bezier(B1, B2, x)"
   ]
  },
  {
   "cell_type": "code",
   "execution_count": 54,
   "id": "78384903",
   "metadata": {},
   "outputs": [],
   "source": [
    "B5 = bezier(B2, B3, x)"
   ]
  },
  {
   "cell_type": "code",
   "execution_count": 56,
   "id": "251eeeeb",
   "metadata": {},
   "outputs": [],
   "source": [
    "B6 = bezier(B4, B5, x)"
   ]
  },
  {
   "cell_type": "code",
   "execution_count": 65,
   "id": "9caa841d",
   "metadata": {},
   "outputs": [
    {
     "data": {
      "image/png": "[encoded data removed]",
      "text/plain": [
       "<Figure size 432x288 with 1 Axes>"
      ]
     },
     "metadata": {
      "needs_background": "light"
     },
     "output_type": "display_data"
    }
   ],
   "source": [
    "plt.plot(*B1);\n",
    "plt.plot(*B2);\n",
    "plt.plot(*B3);\n",
    "t = x\n",
    "plt.plot(15*t - 24 * np.power(t,2) + 9 * np.power(t,3), 12 * np.power(t,2) - 12 * np.power(t,3));\n",
    "#plt.plot(*B6);"
   ]
  },
  {
   "cell_type": "markdown",
   "id": "f5ee067f",
   "metadata": {},
   "source": [
    "# Test 1 (var 53)"
   ]
  },
  {
   "cell_type": "markdown",
   "id": "d09dd844",
   "metadata": {},
   "source": [
    "## 1"
   ]
  },
  {
   "cell_type": "code",
   "execution_count": 7,
   "id": "4d5f42f4",
   "metadata": {},
   "outputs": [],
   "source": [
    "A = [[84, 56, 66, -62], \n",
    "     [ 6, -2,-138,-43],\n",
    "    [-114,26, 3, -38]]\n",
    "A = np.array(A)"
   ]
  },
  {
   "cell_type": "code",
   "execution_count": 12,
   "id": "319c2941",
   "metadata": {},
   "outputs": [
    {
     "data": {
      "text/plain": [
       "array([[18392, -6050, -5566],\n",
       "       [-6050, 20933,   484],\n",
       "       [-5566,   484, 15125]])"
      ]
     },
     "execution_count": 12,
     "metadata": {},
     "output_type": "execute_result"
    }
   ],
   "source": [
    "AAT = A @ A.T\n",
    "AAT"
   ]
  },
  {
   "cell_type": "markdown",
   "id": "4e73fd8c",
   "metadata": {},
   "source": [
    "$$ (18392-\\lambda)(20933 - \\lambda)(15125 - \\lambda) + $$ \n",
    "$$ + 2 * 484 * 5566 + 6050 - (18392-\\lambda)*484^2 - $$ \n",
    "$$ - (20933-\\lambda)*5566^2 - (15125-\\lambda)*6050^2 = 0 $$"
   ]
  },
  {
   "cell_type": "markdown",
   "id": "5e1bf03c",
   "metadata": {},
   "source": [
    "$$ 18392 = 8 * 11^2 * 19 $$\n",
    "$$ 20933 = 11^2 * 173 $$\n",
    "$$ 15125 = 5^3 * 11^2  $$\n",
    "    \n",
    "$$ 484 = 4 * 11^2 $$\n",
    "$$ 5566 = 46 * 11^2 $$\n",
    "$$ 6050 = 11^2 * 50 $$"
   ]
  },
  {
   "cell_type": "markdown",
   "id": "96409435",
   "metadata": {},
   "source": [
    "$$ -\\lambda^3 + 11^2 (125 + 173 + 152) \\lambda^2 + \\lambda * 11^4 * (4^2 + 46^2 + 50^2 - 152 * 173 - 152 * 125 - 173 * 125) + 11^6 (125 * 173 * 152 + 2 * 4 * 46 * 50 - 152 * 4^2 - 173 * 46^2 - 125 * 50^2) = 0 $$"
   ]
  },
  {
   "cell_type": "markdown",
   "id": "65f8c792",
   "metadata": {},
   "source": [
    "$$ -\\lambda^3 + 11^2 * 450 \\lambda^2 + 11^4 (-62289) \\lambda + 11^6 (2624400) = 0 $$"
   ]
  },
  {
   "cell_type": "code",
   "execution_count": 71,
   "id": "c0ca750d",
   "metadata": {},
   "outputs": [
    {
     "data": {
      "text/plain": [
       "array([27225., 17424.,  9801.])"
      ]
     },
     "execution_count": 71,
     "metadata": {},
     "output_type": "execute_result"
    }
   ],
   "source": [
    "x = np.roots([-1, 11**2 * 450, 11**4 * (-62289), 11**6 * (2624400)])\n",
    "x"
   ]
  },
  {
   "cell_type": "code",
   "execution_count": 72,
   "id": "4874a453",
   "metadata": {},
   "outputs": [
    {
     "data": {
      "text/plain": [
       "array([[165.,   0.,   0.],\n",
       "       [  0., 132.,   0.],\n",
       "       [  0.,   0.,  99.]])"
      ]
     },
     "execution_count": 72,
     "metadata": {},
     "output_type": "execute_result"
    }
   ],
   "source": [
    "sigma = np.diag(np.sqrt(x))\n",
    "sigma"
   ]
  },
  {
   "cell_type": "code",
   "execution_count": 107,
   "id": "ef0656c5",
   "metadata": {},
   "outputs": [
    {
     "data": {
      "text/plain": [
       "array([[ 1.,  0.,  2.],\n",
       "       [ 0.,  1., -2.],\n",
       "       [ 0.,  0.,  0.]])"
      ]
     },
     "execution_count": 107,
     "metadata": {},
     "output_type": "execute_result"
    }
   ],
   "source": [
    "A1 = AAT - x[0] * np.eye(3)\n",
    "A1 /= 121\n",
    "A1[0] -= A1[1]\n",
    "A1[2] -= 2*A1[0]\n",
    "A1[2] = 0\n",
    "A1[1] -= 2*A1[0]\n",
    "A1[1] /= -4\n",
    "A1[0] += 23 * A1[1]; A1[0,0] = 0\n",
    "A1[0] /= 324\n",
    "A1[1] -= A1[0] * 14; A1[1,1] = 0\n",
    "A1[[1,0,2]]"
   ]
  },
  {
   "cell_type": "code",
   "execution_count": 97,
   "id": "650b8c18",
   "metadata": {},
   "outputs": [
    {
     "data": {
      "text/plain": [
       "array([-0.66666667,  0.66666667,  0.33333333])"
      ]
     },
     "execution_count": 97,
     "metadata": {},
     "output_type": "execute_result"
    }
   ],
   "source": [
    "v1 = np.array([-2,2,1]) / 3\n",
    "v1"
   ]
  },
  {
   "cell_type": "code",
   "execution_count": 123,
   "id": "21511d68",
   "metadata": {},
   "outputs": [
    {
     "data": {
      "text/plain": [
       "array([[ 1. , -0. ,  0.5],\n",
       "       [ 0. ,  1. ,  1. ],\n",
       "       [ 0. ,  0. ,  0. ]])"
      ]
     },
     "execution_count": 123,
     "metadata": {},
     "output_type": "execute_result"
    }
   ],
   "source": [
    "A1 = AAT - x[1] * np.eye(3)\n",
    "A1 /= 121\n",
    "A1[1] -= A1[2]\n",
    "A1[0] += 2*A1[1]; A1[0] = 0\n",
    "A1[2] -= 11*A1[1]\n",
    "A1[1] -= 2 * A1[2]; A1[1,0] = 0\n",
    "A1[1] /= 567\n",
    "A1[2] += 271 * A1[1]; A1[2,1] = 0\n",
    "A1[2] /= -2\n",
    "A1[[2,1,0]]"
   ]
  },
  {
   "cell_type": "code",
   "execution_count": 126,
   "id": "a671c224",
   "metadata": {},
   "outputs": [
    {
     "data": {
      "text/plain": [
       "array([-0.33333333, -0.66666667,  0.66666667])"
      ]
     },
     "execution_count": 126,
     "metadata": {},
     "output_type": "execute_result"
    }
   ],
   "source": [
    "v2 = np.array([-1,-2,2]) / 3\n",
    "v2"
   ]
  },
  {
   "cell_type": "code",
   "execution_count": 147,
   "id": "a001f993",
   "metadata": {},
   "outputs": [
    {
     "data": {
      "text/plain": [
       "array([[ 1. ,  0. , -1. ],\n",
       "       [ 0. ,  1. , -0.5],\n",
       "       [ 0. ,  0. ,  0. ]])"
      ]
     },
     "execution_count": 147,
     "metadata": {},
     "output_type": "execute_result"
    }
   ],
   "source": [
    "A1 = AAT - x[2] * np.eye(3)\n",
    "A1 /= 121\n",
    "A1[1] -= A1[2]\n",
    "A1[1] /= -4\n",
    "A1[0] -= 71 * A1[1]; A1[0,0] = 0;\n",
    "A1[0] /= 756\n",
    "A1[2] -= -46 * A1[1]; A1[2,0] = 0;\n",
    "A1[2] /= 504\n",
    "A1[2] += A1[0]; A1[2] = 0\n",
    "A1[1] += 11 * A1[0]; A1[1,1] = 0\n",
    "A1[0] /= 2\n",
    "A1[[1,0,2]]"
   ]
  },
  {
   "cell_type": "code",
   "execution_count": 148,
   "id": "5c116a08",
   "metadata": {},
   "outputs": [
    {
     "data": {
      "text/plain": [
       "array([0.66666667, 0.33333333, 0.66666667])"
      ]
     },
     "execution_count": 148,
     "metadata": {},
     "output_type": "execute_result"
    }
   ],
   "source": [
    "v3 = np.array([2,1,2]) / 3\n",
    "v3"
   ]
  },
  {
   "cell_type": "code",
   "execution_count": 153,
   "id": "4f7638eb",
   "metadata": {},
   "outputs": [
    {
     "data": {
      "text/plain": [
       "array([[-0.66666667, -0.33333333,  0.66666667],\n",
       "       [ 0.66666667, -0.66666667,  0.33333333],\n",
       "       [ 0.33333333,  0.66666667,  0.66666667]])"
      ]
     },
     "execution_count": 153,
     "metadata": {},
     "output_type": "execute_result"
    }
   ],
   "source": [
    "U = np.array([v1,v2,v3]).T\n",
    "U"
   ]
  },
  {
   "cell_type": "code",
   "execution_count": 160,
   "id": "1bef2ae5",
   "metadata": {},
   "outputs": [
    {
     "data": {
      "text/plain": [
       "array([[-5.45454545e-01, -1.81818182e-01, -8.18181818e-01,\n",
       "         6.07153217e-18],\n",
       "       [-8.18181818e-01,  3.46944695e-18,  5.45454545e-01,\n",
       "         1.81818182e-01],\n",
       "       [-1.81818182e-01,  5.45454545e-01, -6.93889390e-18,\n",
       "        -8.18181818e-01]])"
      ]
     },
     "execution_count": 160,
     "metadata": {},
     "output_type": "execute_result"
    }
   ],
   "source": [
    "Vt = np.diag(1/np.sqrt(x)) @ U.T @ A\n",
    "Vt"
   ]
  },
  {
   "cell_type": "code",
   "execution_count": 10,
   "id": "25c51521",
   "metadata": {},
   "outputs": [
    {
     "data": {
      "text/plain": [
       "(array([[ 0.66666667, -0.33333333,  0.66666667],\n",
       "        [-0.66666667, -0.66666667,  0.33333333],\n",
       "        [-0.33333333,  0.66666667,  0.66666667]]),\n",
       " array([165., 132.,  99.]),\n",
       " array([[ 5.45454545e-01,  1.81818182e-01,  8.18181818e-01,\n",
       "          5.06729766e-16],\n",
       "        [-8.18181818e-01, -2.39983685e-16,  5.45454545e-01,\n",
       "          1.81818182e-01],\n",
       "        [-1.81818182e-01,  5.45454545e-01,  9.48121718e-16,\n",
       "         -8.18181818e-01],\n",
       "        [ 1.54241800e-16,  8.18181818e-01, -1.81818182e-01,\n",
       "          5.45454545e-01]]))"
      ]
     },
     "execution_count": 10,
     "metadata": {},
     "output_type": "execute_result"
    }
   ],
   "source": [
    "np.linalg.svd(A)"
   ]
  },
  {
   "cell_type": "code",
   "execution_count": 162,
   "id": "86e3ba6d",
   "metadata": {},
   "outputs": [
    {
     "data": {
      "text/plain": [
       "array([[  84.,   56.,   66.,  -62.],\n",
       "       [   6.,   -2., -138.,  -43.],\n",
       "       [-114.,   26.,    3.,  -38.]])"
      ]
     },
     "execution_count": 162,
     "metadata": {},
     "output_type": "execute_result"
    }
   ],
   "source": [
    "U @ sigma @ Vt"
   ]
  },
  {
   "cell_type": "code",
   "execution_count": 163,
   "id": "c7fc2856",
   "metadata": {},
   "outputs": [
    {
     "data": {
      "text/plain": [
       "array([[  84,   56,   66,  -62],\n",
       "       [   6,   -2, -138,  -43],\n",
       "       [-114,   26,    3,  -38]])"
      ]
     },
     "execution_count": 163,
     "metadata": {},
     "output_type": "execute_result"
    }
   ],
   "source": [
    "A"
   ]
  },
  {
   "cell_type": "markdown",
   "id": "be59a3be",
   "metadata": {},
   "source": [
    "## 2"
   ]
  },
  {
   "cell_type": "code",
   "execution_count": 8,
   "id": "4153e2b4",
   "metadata": {},
   "outputs": [
    {
     "data": {
      "text/plain": [
       "array([[  4, -11,  13],\n",
       "       [  3,  -8,  10],\n",
       "       [ -1,   4,  -2],\n",
       "       [ -2,   7,  -5]])"
      ]
     },
     "execution_count": 8,
     "metadata": {},
     "output_type": "execute_result"
    }
   ],
   "source": [
    "A = np.array([[4,-11,13],[3,-8,10],[-1,4,-2],[-2,7,-5]])\n",
    "A"
   ]
  },
  {
   "cell_type": "code",
   "execution_count": 18,
   "id": "a7fd7cfd",
   "metadata": {},
   "outputs": [
    {
     "data": {
      "text/plain": [
       "array([[1, 0, 6],\n",
       "       [0, 1, 1],\n",
       "       [0, 0, 0],\n",
       "       [0, 0, 0]])"
      ]
     },
     "execution_count": 18,
     "metadata": {},
     "output_type": "execute_result"
    }
   ],
   "source": [
    "A = np.array([[4,-11,13],[3,-8,10],[-1,4,-2],[-2,7,-5]])\n",
    "A_t = A[0].copy(); A[0] = A[2]; A[2] = A_t\n",
    "A_t = A[1].copy(); A[1] = A[3]; A[3] = A_t\n",
    "A[1] -= 2 * A[0]\n",
    "A[0] *= -1; A[1] *= -1;\n",
    "A[2] -= 4*A[0]\n",
    "A[3] -= 3*A[0]\n",
    "A[3] -= 4*A[1]\n",
    "A[2] -= 5*A[1]\n",
    "A[0] -= -4*A[1]\n",
    "A"
   ]
  },
  {
   "cell_type": "code",
   "execution_count": 33,
   "id": "21ea3a4b",
   "metadata": {},
   "outputs": [
    {
     "data": {
      "text/plain": [
       "array([[  4., -11.],\n",
       "       [  3.,  -8.],\n",
       "       [ -1.,   4.],\n",
       "       [ -2.,   7.]])"
      ]
     },
     "execution_count": 33,
     "metadata": {},
     "output_type": "execute_result"
    }
   ],
   "source": [
    "F = np.array([[4,-11],[3,-8],[-1,4],[-2,7]], dtype=np.float_)\n",
    "F"
   ]
  },
  {
   "cell_type": "code",
   "execution_count": 34,
   "id": "bc5914b1",
   "metadata": {},
   "outputs": [
    {
     "data": {
      "text/plain": [
       "array([[  4., -11.,  13.],\n",
       "       [  3.,  -8.,  10.],\n",
       "       [ -1.,   4.,  -2.],\n",
       "       [ -2.,   7.,  -5.]])"
      ]
     },
     "execution_count": 34,
     "metadata": {},
     "output_type": "execute_result"
    }
   ],
   "source": [
    "F @ A[:2]"
   ]
  },
  {
   "cell_type": "code",
   "execution_count": 39,
   "id": "38b5ead2",
   "metadata": {},
   "outputs": [],
   "source": [
    "G = A[:2].copy()"
   ]
  },
  {
   "cell_type": "code",
   "execution_count": 41,
   "id": "9385c622",
   "metadata": {},
   "outputs": [
    {
     "data": {
      "text/plain": [
       "array([[37,  6],\n",
       "       [ 6,  2]])"
      ]
     },
     "execution_count": 41,
     "metadata": {},
     "output_type": "execute_result"
    }
   ],
   "source": [
    "GGT = G @ G.T\n",
    "GGT"
   ]
  },
  {
   "cell_type": "code",
   "execution_count": 73,
   "id": "2efed418",
   "metadata": {},
   "outputs": [
    {
     "name": "stdout",
     "output_type": "stream",
     "text": [
      "[[1. 0.]\n",
      " [0. 1.]]\n",
      "[[ 1. -6.]\n",
      " [ 0.  1.]]\n",
      "[[ 1. -6.]\n",
      " [-6. 37.]]\n",
      "[[ 0.05263158 -0.15789474]\n",
      " [-0.15789474  0.97368421]]\n"
     ]
    }
   ],
   "source": [
    "GGT = np.eye(2)\n",
    "print(GGT)\n",
    "GGT = GGT.astype(np.float_)\n",
    "GGT[0] -= 6*GGT[1]\n",
    "print(GGT)\n",
    "GGT[1] -= 6*GGT[0]\n",
    "print(GGT)\n",
    "GGT[1] *= 1/38.\n",
    "GGT[0] -= -6*GGT[1]\n",
    "print(GGT)"
   ]
  },
  {
   "cell_type": "code",
   "execution_count": 74,
   "id": "4d129fd8",
   "metadata": {},
   "outputs": [
    {
     "data": {
      "text/plain": [
       "array([[ 1.00000000e+00, -1.55431223e-15],\n",
       "       [-1.66533454e-16,  1.00000000e+00]])"
      ]
     },
     "execution_count": 74,
     "metadata": {},
     "output_type": "execute_result"
    }
   ],
   "source": [
    "GGT @ G @ G.T"
   ]
  },
  {
   "cell_type": "code",
   "execution_count": 75,
   "id": "b5e53488",
   "metadata": {},
   "outputs": [
    {
     "data": {
      "text/plain": [
       "array([[38,  0],\n",
       "       [ 0, 38]])"
      ]
     },
     "execution_count": 75,
     "metadata": {},
     "output_type": "execute_result"
    }
   ],
   "source": [
    "np.array([[2,-6],[-6,37]]) @ G @ G.T"
   ]
  },
  {
   "cell_type": "code",
   "execution_count": 76,
   "id": "5bbd5079",
   "metadata": {},
   "outputs": [
    {
     "data": {
      "text/plain": [
       "array([[ 30., -86.],\n",
       "       [-86., 250.]])"
      ]
     },
     "execution_count": 76,
     "metadata": {},
     "output_type": "execute_result"
    }
   ],
   "source": [
    "FTF = F.T @ F\n",
    "FTF"
   ]
  },
  {
   "cell_type": "code",
   "execution_count": 77,
   "id": "076170b9",
   "metadata": {},
   "outputs": [
    {
     "name": "stdout",
     "output_type": "stream",
     "text": [
      "[[-21.5   -7.5 ]\n",
      " [  0.75   0.25]]\n"
     ]
    },
    {
     "data": {
      "text/plain": [
       "array([[2.40384615, 0.82692308],\n",
       "       [0.82692308, 0.28846154]])"
      ]
     },
     "execution_count": 77,
     "metadata": {},
     "output_type": "execute_result"
    }
   ],
   "source": [
    "FTF = np.eye(2)\n",
    "#FTF = F.T @ F\n",
    "FTF[1] += 3*FTF[0]\n",
    "FTF[1] /= 4\n",
    "FTF[0] -= 30*FTF[1]\n",
    "print(FTF)\n",
    "FTF[0] /= -26\n",
    "FTF[1] -= -2*FTF[0]\n",
    "FTF= FTF[[1,0]]\n",
    "FTF"
   ]
  },
  {
   "cell_type": "code",
   "execution_count": 78,
   "id": "97a5cfcb",
   "metadata": {},
   "outputs": [
    {
     "data": {
      "text/plain": [
       "array([[ 1.00000000e+00, -1.33226763e-14],\n",
       "       [ 6.66133815e-16,  1.00000000e+00]])"
      ]
     },
     "execution_count": 78,
     "metadata": {},
     "output_type": "execute_result"
    }
   ],
   "source": [
    "FTF @ F.T @ F"
   ]
  },
  {
   "cell_type": "code",
   "execution_count": 82,
   "id": "91323726",
   "metadata": {},
   "outputs": [
    {
     "data": {
      "text/plain": [
       "array([[ 0.00607287,  0.00404858, -0.00404858, -0.00607287],\n",
       "       [ 0.04908907,  0.07439271,  0.17560729,  0.20091093],\n",
       "       [ 0.08552632,  0.09868421,  0.15131579,  0.16447368]])"
      ]
     },
     "execution_count": 82,
     "metadata": {},
     "output_type": "execute_result"
    }
   ],
   "source": [
    "Ap = G.T @ GGT @ FTF @ F.T\n",
    "A = np.array([[4,-11,13],[3,-8,10],[-1,4,-2],[-2,7,-5]])\n",
    "Ap"
   ]
  },
  {
   "cell_type": "code",
   "execution_count": 83,
   "id": "1cb69dcb",
   "metadata": {},
   "outputs": [
    {
     "name": "stdout",
     "output_type": "stream",
     "text": [
      "True\n",
      "True\n",
      "True\n",
      "True\n"
     ]
    }
   ],
   "source": [
    "print(np.allclose(Ap @ A @ Ap, Ap))\n",
    "print(np.allclose(A @ Ap @ A, A))\n",
    "print(np.allclose((A @ Ap).T, A @ Ap))\n",
    "print(np.allclose((Ap @ A).T, Ap @ A))"
   ]
  },
  {
   "cell_type": "code",
   "execution_count": 84,
   "id": "420a8efc",
   "metadata": {},
   "outputs": [
    {
     "data": {
      "text/plain": [
       "array([[  4., -11.,  13.],\n",
       "       [  3.,  -8.,  10.],\n",
       "       [ -1.,   4.,  -2.],\n",
       "       [ -2.,   7.,  -5.]])"
      ]
     },
     "execution_count": 84,
     "metadata": {},
     "output_type": "execute_result"
    }
   ],
   "source": [
    "A @ Ap @ A"
   ]
  },
  {
   "cell_type": "code",
   "execution_count": 85,
   "id": "f9decdfc",
   "metadata": {},
   "outputs": [
    {
     "data": {
      "text/plain": [
       "array([[ 0.00607287,  0.00404858, -0.00404858, -0.00607287],\n",
       "       [ 0.04908907,  0.07439271,  0.17560729,  0.20091093],\n",
       "       [ 0.08552632,  0.09868421,  0.15131579,  0.16447368]])"
      ]
     },
     "execution_count": 85,
     "metadata": {},
     "output_type": "execute_result"
    }
   ],
   "source": [
    "Ap"
   ]
  },
  {
   "cell_type": "markdown",
   "id": "28cdbee9",
   "metadata": {},
   "source": [
    "## 3"
   ]
  },
  {
   "cell_type": "code",
   "execution_count": 10,
   "id": "c2165dab",
   "metadata": {},
   "outputs": [
    {
     "data": {
      "text/plain": [
       "array([[ -1,   1,  10,  12],\n",
       "       [  4,   6, -14,   8],\n",
       "       [  3,   5,  -7,  11],\n",
       "       [ -2,   0,  11,   9]])"
      ]
     },
     "execution_count": 10,
     "metadata": {},
     "output_type": "execute_result"
    }
   ],
   "source": [
    "A = np.array([[-1,1,10,12],[4,6,-14,8],[3,5,-7,11],[-2,0,11,9]])\n",
    "b = np.array([8,1,1,3])\n",
    "A"
   ]
  },
  {
   "cell_type": "code",
   "execution_count": 31,
   "id": "44f60bdb",
   "metadata": {},
   "outputs": [
    {
     "name": "stdout",
     "output_type": "stream",
     "text": [
      "[[ 1. -1.  0. -2.]\n",
      " [ 0.  0.  0.  0.]\n",
      " [-0. -0.  1.  1.]\n",
      " [ 0. -2.  0. -6.]]\n"
     ]
    },
    {
     "data": {
      "text/plain": [
       "array([[ 1.,  0.,  0.,  1.],\n",
       "       [-0.,  1., -0.,  3.],\n",
       "       [-0., -0.,  1.,  1.],\n",
       "       [ 0.,  0.,  0.,  0.]])"
      ]
     },
     "execution_count": 31,
     "metadata": {},
     "output_type": "execute_result"
    }
   ],
   "source": [
    "t = A.copy()\n",
    "t = t.astype(float)\n",
    "t[0] *= -1\n",
    "t[1] -= 4 * t[0]\n",
    "t[2] -= 3 * t[0]\n",
    "t[3] -= -2* t[0]\n",
    "t[1] += 5*t[3]\n",
    "t[2] += 4*t[3]\n",
    "\n",
    "t[2] /= -13\n",
    "t[1] += 19*t[2]\n",
    "t[0] += 10*t[2]\n",
    "t[3] += 9 *t[2]\n",
    "print(t)\n",
    "t[3] /= -2\n",
    "t[0] += t[3]\n",
    "res = t[[0,3,2,1]]\n",
    "res"
   ]
  },
  {
   "cell_type": "code",
   "execution_count": 30,
   "id": "b886d346",
   "metadata": {},
   "outputs": [
    {
     "data": {
      "text/plain": [
       "array([[0],\n",
       "       [0],\n",
       "       [0],\n",
       "       [0]])"
      ]
     },
     "execution_count": 30,
     "metadata": {},
     "output_type": "execute_result"
    }
   ],
   "source": [
    "A @ np.array([[-1,-3,-1,1]]).T * 100"
   ]
  },
  {
   "cell_type": "code",
   "execution_count": 34,
   "id": "4e194071",
   "metadata": {},
   "outputs": [
    {
     "data": {
      "text/plain": [
       "array([[ -1.,   1.,  10.,  12.],\n",
       "       [  4.,   6., -14.,   8.],\n",
       "       [  3.,   5.,  -7.,  11.],\n",
       "       [ -2.,   0.,  11.,   9.]])"
      ]
     },
     "execution_count": 34,
     "metadata": {},
     "output_type": "execute_result"
    }
   ],
   "source": [
    "A[:,:3] @ res[:3]"
   ]
  },
  {
   "cell_type": "code",
   "execution_count": 43,
   "id": "eb46bb28",
   "metadata": {},
   "outputs": [
    {
     "data": {
      "text/plain": [
       "array([[11., -3., -1.],\n",
       "       [-3.,  3., -3.],\n",
       "       [-1., -3., 11.]])"
      ]
     },
     "execution_count": 43,
     "metadata": {},
     "output_type": "execute_result"
    }
   ],
   "source": [
    "np.linalg.inv(res[:3] @ res[:3].T) * 12"
   ]
  },
  {
   "cell_type": "code",
   "execution_count": 106,
   "id": "d1cdae80",
   "metadata": {},
   "outputs": [
    {
     "data": {
      "text/plain": [
       "array([[17011., -5827.,  2616.],\n",
       "       [-5827.,  2099.,  -872.],\n",
       "       [ 2616.,  -872.,   416.]])"
      ]
     },
     "execution_count": 106,
     "metadata": {},
     "output_type": "execute_result"
    }
   ],
   "source": [
    "FTF = np.linalg.inv(A[:,:3].T @ A[:,:3])\n",
    "FTF * 47 * 80"
   ]
  },
  {
   "cell_type": "code",
   "execution_count": 98,
   "id": "396a3e3a",
   "metadata": {},
   "outputs": [
    {
     "data": {
      "text/plain": [
       "array([[ 0.,  0., 47.],\n",
       "       [ 1.,  0., -9.],\n",
       "       [ 0.,  1.,  3.]])"
      ]
     },
     "execution_count": 98,
     "metadata": {},
     "output_type": "execute_result"
    }
   ],
   "source": [
    "x = A[:,:3].T @ A[:,:3]\n",
    "x= x.astype(float)\n",
    "#x = np.eye(3)\n",
    "x[1] -= x[0]\n",
    "x[1] /= 8\n",
    "x[0] -= 30 * x[1]\n",
    "x[2] -= -109 * x[1]\n",
    "x[2] /= 2\n",
    "x[2] -= -2*x[0]\n",
    "x[2] /= 5\n",
    "x[1] -= 3*x[2]\n",
    "x[0] -= -52*x[2]\n",
    "x"
   ]
  },
  {
   "cell_type": "code",
   "execution_count": 107,
   "id": "15ced03d",
   "metadata": {},
   "outputs": [
    {
     "data": {
      "text/plain": [
       "array([[ 0.84778369, -0.94973404,  0.92012411, -1.40150709],\n",
       "       [-0.31835106,  0.37420213, -0.33537234,  0.52952128],\n",
       "       [ 0.14299645, -0.16515957,  0.1195922 , -0.18076241],\n",
       "       [ 0.03572695,  0.00771277,  0.03359929,  0.00629433]])"
      ]
     },
     "execution_count": 107,
     "metadata": {},
     "output_type": "execute_result"
    }
   ],
   "source": [
    "Ap = res[:3].T @ np.linalg.inv(res[:3] @ res[:3].T) @ FTF @ A[:,:3].T\n",
    "Ap"
   ]
  },
  {
   "cell_type": "code",
   "execution_count": 108,
   "id": "d8cf3698",
   "metadata": {},
   "outputs": [
    {
     "name": "stdout",
     "output_type": "stream",
     "text": [
      "True\n",
      "True\n",
      "True\n",
      "True\n"
     ]
    }
   ],
   "source": [
    "print(np.allclose(Ap @ A @ Ap, Ap))\n",
    "print(np.allclose(A @ Ap @ A, A))\n",
    "print(np.allclose((A @ Ap).T, A @ Ap))\n",
    "print(np.allclose((Ap @ A).T, Ap @ A))"
   ]
  },
  {
   "cell_type": "code",
   "execution_count": 81,
   "id": "409468dd",
   "metadata": {},
   "outputs": [
    {
     "data": {
      "text/plain": [
       "3.163791154309194"
      ]
     },
     "execution_count": 81,
     "metadata": {},
     "output_type": "execute_result"
    }
   ],
   "source": [
    "np.linalg.norm(A @ u - b)"
   ]
  },
  {
   "cell_type": "code",
   "execution_count": 109,
   "id": "3d451e21",
   "metadata": {},
   "outputs": [
    {
     "data": {
      "text/plain": [
       "array([ 2.5481383 , -0.91941489,  0.55611702,  0.34601064])"
      ]
     },
     "execution_count": 109,
     "metadata": {},
     "output_type": "execute_result"
    }
   ],
   "source": [
    "u"
   ]
  },
  {
   "cell_type": "markdown",
   "id": "ebeab069",
   "metadata": {},
   "source": [
    "## 4"
   ]
  },
  {
   "cell_type": "code",
   "execution_count": 3,
   "id": "00debe50",
   "metadata": {},
   "outputs": [],
   "source": [
    "A = np.array([[1,-3,9,-27],[1,-2,4,-8],[1,-1,1,-1],[1,0,0,0]])\n",
    "b = np.array([-7,17,-12,-15])"
   ]
  },
  {
   "cell_type": "code",
   "execution_count": 24,
   "id": "85a47fb4",
   "metadata": {},
   "outputs": [
    {
     "data": {
      "text/plain": [
       "array([-15.        ,  36.33333333,  52.5       ,  13.16666667])"
      ]
     },
     "execution_count": 24,
     "metadata": {},
     "output_type": "execute_result"
    }
   ],
   "source": [
    "res = np.linalg.solve(A,b)\n",
    "res"
   ]
  },
  {
   "cell_type": "code",
   "execution_count": 12,
   "id": "f9cd3eae",
   "metadata": {},
   "outputs": [],
   "source": [
    "Ab = np.concatenate((A,b.reshape(-1,1)), axis=1)"
   ]
  },
  {
   "cell_type": "code",
   "execution_count": 22,
   "id": "1cc084f3",
   "metadata": {},
   "outputs": [
    {
     "data": {
      "text/plain": [
       "array([[  1,   0,   0,   0, -15],\n",
       "       [  0,   1,  -1,   1,  -3],\n",
       "       [  0,   0,   2,  -6,  26],\n",
       "       [  0,   0,   6, -24,  -1]])"
      ]
     },
     "execution_count": 22,
     "metadata": {},
     "output_type": "execute_result"
    }
   ],
   "source": [
    "Ab = np.concatenate((A,b.reshape(-1,1)), axis=1)\n",
    "Ab = Ab[[-1, 0, 1, 2]]\n",
    "Ab[1] -= Ab[0]\n",
    "Ab[2] -= Ab[0]\n",
    "Ab[3] -= Ab[0]\n",
    "Ab = Ab[[0,3,2,1]]\n",
    "Ab[2] -= 2*Ab[1]\n",
    "Ab[3] -= 3*Ab[1]\n",
    "Ab[1] *= -1\n",
    "Ab"
   ]
  },
  {
   "cell_type": "code",
   "execution_count": 25,
   "id": "6a1f3fd8",
   "metadata": {},
   "outputs": [
    {
     "name": "stdout",
     "output_type": "stream",
     "text": [
      "-7.0 17.00000000000003 -11.999999999999982 -15.0\n"
     ]
    }
   ],
   "source": [
    "def f(x, a):\n",
    "    return a[0] +a[1] * x + a[2] * x**2 + a[3]* x ** 3\n",
    "\n",
    "print(f(-3,res), f(-2,res), f(-1,res), f(0,res))"
   ]
  },
  {
   "cell_type": "markdown",
   "id": "2d9ee917",
   "metadata": {},
   "source": [
    "# ДЗ 6.4"
   ]
  },
  {
   "cell_type": "code",
   "execution_count": 3,
   "id": "0faf1ab5",
   "metadata": {},
   "outputs": [
    {
     "data": {
      "text/plain": [
       "array([1.68481034e+01, 1.06836951e+00, 4.51658526e-08])"
      ]
     },
     "execution_count": 3,
     "metadata": {},
     "output_type": "execute_result"
    }
   ],
   "source": [
    "A = np.array([[1,2,3],[4,5,6],[7,8,9]])\n",
    "np.sqrt(np.linalg.eig(A.T @ A)[0])"
   ]
  },
  {
   "cell_type": "code",
   "execution_count": 5,
   "id": "814c43b5",
   "metadata": {},
   "outputs": [
    {
     "data": {
      "text/plain": [
       "16.881943016134134"
      ]
     },
     "execution_count": 5,
     "metadata": {},
     "output_type": "execute_result"
    }
   ],
   "source": [
    "np.sqrt((A ** 2).sum())"
   ]
  },
  {
   "cell_type": "code",
   "execution_count": 6,
   "id": "5f37daf8",
   "metadata": {},
   "outputs": [
    {
     "data": {
      "text/plain": [
       "16.881943016134134"
      ]
     },
     "execution_count": 6,
     "metadata": {},
     "output_type": "execute_result"
    }
   ],
   "source": [
    "np.linalg.norm()"
   ]
  },
  {
   "cell_type": "code",
   "execution_count": null,
   "id": "b10c4837",
   "metadata": {},
   "outputs": [],
   "source": []
  }
 ],
 "metadata": {
  "kernelspec": {
   "display_name": "Python 3 (ipykernel)",
   "language": "python",
   "name": "python3"
  },
  "language_info": {
   "codemirror_mode": {
    "name": "ipython",
    "version": 3
   },
   "file_extension": ".py",
   "mimetype": "text/x-python",
   "name": "python",
   "nbconvert_exporter": "python",
   "pygments_lexer": "ipython3",
   "version": "3.9.12"
  }
 },
 "nbformat": 4,
 "nbformat_minor": 5
}
