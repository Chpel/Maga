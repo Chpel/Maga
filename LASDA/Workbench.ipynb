{
 "cells": [
  {
   "cell_type": "code",
   "execution_count": 1,
   "id": "e90640a5",
   "metadata": {},
   "outputs": [],
   "source": [
    "import numpy as np\n",
    "import matplotlib.pyplot as plt"
   ]
  },
  {
   "cell_type": "code",
   "execution_count": 2,
   "id": "36b06dac",
   "metadata": {},
   "outputs": [
    {
     "data": {
      "text/plain": [
       "array([[ 2, -1],\n",
       "       [ 4, -2]])"
      ]
     },
     "execution_count": 2,
     "metadata": {},
     "output_type": "execute_result"
    }
   ],
   "source": [
    "A = np.array([[2,-1],[4,-2]])\n",
    "A"
   ]
  },
  {
   "cell_type": "code",
   "execution_count": 3,
   "id": "5dd4afa8",
   "metadata": {},
   "outputs": [
    {
     "data": {
      "text/plain": [
       "array([[ 0.08,  0.16],\n",
       "       [-0.04, -0.08]])"
      ]
     },
     "execution_count": 3,
     "metadata": {},
     "output_type": "execute_result"
    }
   ],
   "source": [
    "Ap = A.T / 25\n",
    "Ap"
   ]
  },
  {
   "cell_type": "code",
   "execution_count": 6,
   "id": "20c6badf",
   "metadata": {},
   "outputs": [
    {
     "data": {
      "text/plain": [
       "array([[16.],\n",
       "       [-8.]])"
      ]
     },
     "execution_count": 6,
     "metadata": {},
     "output_type": "execute_result"
    }
   ],
   "source": [
    "Ap @ np.array([[0],[4]]) * 25"
   ]
  },
  {
   "cell_type": "code",
   "execution_count": 4,
   "id": "d2fa1c7d",
   "metadata": {},
   "outputs": [
    {
     "name": "stdout",
     "output_type": "stream",
     "text": [
      "True\n",
      "True\n",
      "True\n",
      "True\n"
     ]
    }
   ],
   "source": [
    "print(np.allclose(Ap @ A @ Ap, Ap))\n",
    "print(np.allclose(A @ Ap @ A, A))\n",
    "print(np.allclose((A @ Ap).T, A @ Ap))\n",
    "print(np.allclose((Ap @ A).T, Ap @ A))"
   ]
  },
  {
   "cell_type": "code",
   "execution_count": 54,
   "id": "d85b72f1",
   "metadata": {},
   "outputs": [],
   "source": [
    "F = np.array([[1,0],[0,1],[1,-1]])\n",
    "G = np.array([[1,0,1],[0,1,1]])"
   ]
  },
  {
   "cell_type": "code",
   "execution_count": 55,
   "id": "0631c261",
   "metadata": {},
   "outputs": [
    {
     "data": {
      "text/plain": [
       "array([[ 1,  0,  1],\n",
       "       [ 0,  1,  1],\n",
       "       [ 1, -1,  0]])"
      ]
     },
     "execution_count": 55,
     "metadata": {},
     "output_type": "execute_result"
    }
   ],
   "source": [
    "F @ G"
   ]
  },
  {
   "cell_type": "code",
   "execution_count": 60,
   "id": "d995ae3c",
   "metadata": {},
   "outputs": [
    {
     "data": {
      "text/plain": [
       "array([[ 0.66666667, -0.33333333],\n",
       "       [-0.33333333,  0.66666667]])"
      ]
     },
     "execution_count": 60,
     "metadata": {},
     "output_type": "execute_result"
    }
   ],
   "source": [
    "np.linalg.inv(G @ G.T)"
   ]
  },
  {
   "cell_type": "code",
   "execution_count": 57,
   "id": "83317c7f",
   "metadata": {},
   "outputs": [
    {
     "data": {
      "text/plain": [
       "array([[ 2, -1],\n",
       "       [-1,  2]])"
      ]
     },
     "execution_count": 57,
     "metadata": {},
     "output_type": "execute_result"
    }
   ],
   "source": [
    "F.T @ F"
   ]
  },
  {
   "cell_type": "markdown",
   "id": "5013e8b4",
   "metadata": {},
   "source": [
    "# Дз 2.2"
   ]
  },
  {
   "cell_type": "code",
   "execution_count": 27,
   "id": "78fad31e",
   "metadata": {},
   "outputs": [],
   "source": [
    "X = np.array([[0, 5, 10, 12, 14]])\n",
    "Y = np.array([[25931, 25780, 25832, 25833, 26540]])"
   ]
  },
  {
   "cell_type": "code",
   "execution_count": 28,
   "id": "8e48007e",
   "metadata": {},
   "outputs": [
    {
     "data": {
      "text/plain": [
       "array([[ 1.,  0.],\n",
       "       [ 1.,  5.],\n",
       "       [ 1., 10.],\n",
       "       [ 1., 12.],\n",
       "       [ 1., 14.]])"
      ]
     },
     "execution_count": 28,
     "metadata": {},
     "output_type": "execute_result"
    }
   ],
   "source": [
    "X = np.concatenate([np.ones((1,5)), X], axis=0).T\n",
    "X"
   ]
  },
  {
   "cell_type": "code",
   "execution_count": 37,
   "id": "dec27bc6",
   "metadata": {},
   "outputs": [],
   "source": [
    "res = np.linalg.inv(X.T @ X) @ X.T @ Y.T"
   ]
  },
  {
   "cell_type": "code",
   "execution_count": 29,
   "id": "5170630a",
   "metadata": {},
   "outputs": [
    {
     "data": {
      "text/plain": [
       "array([[25762.61490683],\n",
       "       [   26.90062112]])"
      ]
     },
     "execution_count": 29,
     "metadata": {},
     "output_type": "execute_result"
    }
   ],
   "source": [
    "np.linalg.pinv(X) @ Y.T"
   ]
  },
  {
   "cell_type": "code",
   "execution_count": 39,
   "id": "1661ba9c",
   "metadata": {},
   "outputs": [
    {
     "data": {
      "text/plain": [
       "array([26327.52795031])"
      ]
     },
     "execution_count": 39,
     "metadata": {},
     "output_type": "execute_result"
    }
   ],
   "source": [
    "np.array([1,21]) @ res "
   ]
  },
  {
   "cell_type": "code",
   "execution_count": 48,
   "id": "eb759c7c",
   "metadata": {},
   "outputs": [],
   "source": [
    "A = np.array([[2,8],[1,0],[0,1]])\n",
    "b = np.array([[10,0,0]]).T"
   ]
  },
  {
   "cell_type": "code",
   "execution_count": 49,
   "id": "4ca3962d",
   "metadata": {},
   "outputs": [
    {
     "data": {
      "text/plain": [
       "array([[0.28985507],\n",
       "       [1.15942029]])"
      ]
     },
     "execution_count": 49,
     "metadata": {},
     "output_type": "execute_result"
    }
   ],
   "source": [
    "np.linalg.inv(A.T @ A) @ A.T @ b"
   ]
  },
  {
   "cell_type": "code",
   "execution_count": 46,
   "id": "718766a4",
   "metadata": {},
   "outputs": [
    {
     "data": {
      "text/plain": [
       "array([[ 0.94202899, -0.23188406],\n",
       "       [-0.23188406,  0.07246377]])"
      ]
     },
     "execution_count": 46,
     "metadata": {},
     "output_type": "execute_result"
    }
   ],
   "source": [
    "np.array([[-3 + 17*16/69, 1 - 17*5/69],[16/-69, 5/69]])"
   ]
  },
  {
   "cell_type": "code",
   "execution_count": 45,
   "id": "f3d925be",
   "metadata": {},
   "outputs": [
    {
     "data": {
      "text/plain": [
       "-69"
      ]
     },
     "execution_count": 45,
     "metadata": {},
     "output_type": "execute_result"
    }
   ],
   "source": [
    "16 - 17*5"
   ]
  },
  {
   "cell_type": "code",
   "execution_count": 58,
   "id": "3d6c4442",
   "metadata": {},
   "outputs": [
    {
     "data": {
      "text/plain": [
       "<matplotlib.collections.PathCollection at 0x19590904a00>"
      ]
     },
     "execution_count": 58,
     "metadata": {},
     "output_type": "execute_result"
    },
    {
     "data": {
      "image/png": "[encoded data removed]",
      "text/plain": [
       "<Figure size 432x288 with 1 Axes>"
      ]
     },
     "metadata": {
      "needs_background": "light"
     },
     "output_type": "display_data"
    }
   ],
   "source": [
    "x = np.linspace(-5,5,20)\n",
    "plt.plot(x, (2*x+10)/8)\n",
    "plt.plot([0]*x.shape[0], x)\n",
    "plt.plot(x, [0]*x.shape[0])\n",
    "plt.scatter([0.29],[1.16])"
   ]
  },
  {
   "cell_type": "code",
   "execution_count": 60,
   "id": "fb268e02",
   "metadata": {},
   "outputs": [
    {
     "data": {
      "text/plain": [
       "42"
      ]
     },
     "execution_count": 60,
     "metadata": {},
     "output_type": "execute_result"
    }
   ],
   "source": [
    "(np.array([1,2,3]*3) ** 2).sum()"
   ]
  },
  {
   "cell_type": "code",
   "execution_count": 61,
   "id": "deb5bf75",
   "metadata": {},
   "outputs": [
    {
     "data": {
      "text/plain": [
       "6.0"
      ]
     },
     "execution_count": 61,
     "metadata": {},
     "output_type": "execute_result"
    }
   ],
   "source": [
    "3/7 + 2 * 6/7 + 3 * 9 / 7"
   ]
  },
  {
   "cell_type": "code",
   "execution_count": 63,
   "id": "b4124409",
   "metadata": {},
   "outputs": [
    {
     "data": {
      "text/plain": [
       "1.6035674514745464"
      ]
     },
     "execution_count": 63,
     "metadata": {},
     "output_type": "execute_result"
    }
   ],
   "source": [
    "np.linalg.norm(np.array([3/7, 6/7, 9/7]))"
   ]
  },
  {
   "cell_type": "markdown",
   "id": "48d937b2",
   "metadata": {},
   "source": [
    "# ДЗ 3.2"
   ]
  },
  {
   "cell_type": "code",
   "execution_count": 2,
   "id": "d71e1439",
   "metadata": {},
   "outputs": [],
   "source": [
    "from scipy.linalg import lu_factor"
   ]
  },
  {
   "cell_type": "code",
   "execution_count": 3,
   "id": "625be71c",
   "metadata": {},
   "outputs": [
    {
     "data": {
      "text/plain": [
       "array([[ 2. ,  3. ,  4. ],\n",
       "       [-0.5, -0.5, -1. ],\n",
       "       [ 0. , -0. ,  1. ]])"
      ]
     },
     "execution_count": 3,
     "metadata": {},
     "output_type": "execute_result"
    }
   ],
   "source": [
    "A = np.array([[2,3,4],[-1,-2,-3],[0,0,1]])\n",
    "lu_factor(A)[0]"
   ]
  },
  {
   "cell_type": "code",
   "execution_count": null,
   "id": "a99b8eb9",
   "metadata": {},
   "outputs": [],
   "source": []
  }
 ],
 "metadata": {
  "kernelspec": {
   "display_name": "Python 3 (ipykernel)",
   "language": "python",
   "name": "python3"
  },
  "language_info": {
   "codemirror_mode": {
    "name": "ipython",
    "version": 3
   },
   "file_extension": ".py",
   "mimetype": "text/x-python",
   "name": "python",
   "nbconvert_exporter": "python",
   "pygments_lexer": "ipython3",
   "version": "3.9.12"
  }
 },
 "nbformat": 4,
 "nbformat_minor": 5
}
