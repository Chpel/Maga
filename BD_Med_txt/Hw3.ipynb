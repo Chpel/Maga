{
 "cells": [
  {
   "cell_type": "code",
   "execution_count": 115,
   "id": "a7991b39-9b14-4f58-87c7-4647cf4a7e9b",
   "metadata": {},
   "outputs": [],
   "source": [
    "import pandas as pd"
   ]
  },
  {
   "cell_type": "code",
   "execution_count": 123,
   "id": "f5e8712d-cedd-4793-9d26-34ff537f3b66",
   "metadata": {},
   "outputs": [
    {
     "data": {
      "text/html": [
       "<div>\n",
       "<style scoped>\n",
       "    .dataframe tbody tr th:only-of-type {\n",
       "        vertical-align: middle;\n",
       "    }\n",
       "\n",
       "    .dataframe tbody tr th {\n",
       "        vertical-align: top;\n",
       "    }\n",
       "\n",
       "    .dataframe thead th {\n",
       "        text-align: right;\n",
       "    }\n",
       "</style>\n",
       "<table border=\"1\" class=\"dataframe\">\n",
       "  <thead>\n",
       "    <tr style=\"text-align: right;\">\n",
       "      <th></th>\n",
       "      <th>stMRN</th>\n",
       "      <th>dtArrive</th>\n",
       "      <th>dtBegin</th>\n",
       "      <th>dtCompleted</th>\n",
       "    </tr>\n",
       "  </thead>\n",
       "  <tbody>\n",
       "    <tr>\n",
       "      <th>0</th>\n",
       "      <td>12222732</td>\n",
       "      <td>4.4.16 8:00</td>\n",
       "      <td>4.4.16 8:04</td>\n",
       "      <td>4.4.16 8:11</td>\n",
       "    </tr>\n",
       "    <tr>\n",
       "      <th>1</th>\n",
       "      <td>13510077</td>\n",
       "      <td>4.4.16 8:21</td>\n",
       "      <td>4.4.16 8:26</td>\n",
       "      <td>4.4.16 8:39</td>\n",
       "    </tr>\n",
       "    <tr>\n",
       "      <th>2</th>\n",
       "      <td>11183882</td>\n",
       "      <td>4.4.16 8:33</td>\n",
       "      <td>4.4.16 8:44</td>\n",
       "      <td>4.4.16 8:44</td>\n",
       "    </tr>\n",
       "    <tr>\n",
       "      <th>3</th>\n",
       "      <td>12949996</td>\n",
       "      <td>4.4.16 8:38</td>\n",
       "      <td>4.4.16 8:41</td>\n",
       "      <td>4.4.16 8:47</td>\n",
       "    </tr>\n",
       "    <tr>\n",
       "      <th>4</th>\n",
       "      <td>11566221</td>\n",
       "      <td>4.4.16 8:26</td>\n",
       "      <td>4.4.16 8:33</td>\n",
       "      <td>4.4.16 8:53</td>\n",
       "    </tr>\n",
       "    <tr>\n",
       "      <th>...</th>\n",
       "      <td>...</td>\n",
       "      <td>...</td>\n",
       "      <td>...</td>\n",
       "      <td>...</td>\n",
       "    </tr>\n",
       "    <tr>\n",
       "      <th>21868</th>\n",
       "      <td>9672860</td>\n",
       "      <td>11.15.16 11:02</td>\n",
       "      <td>11.15.16 11:23</td>\n",
       "      <td>11.15.16 11:43</td>\n",
       "    </tr>\n",
       "    <tr>\n",
       "      <th>21869</th>\n",
       "      <td>12075344</td>\n",
       "      <td>11.15.16 13:50</td>\n",
       "      <td>11.15.16 14:01</td>\n",
       "      <td>11.15.16 14:04</td>\n",
       "    </tr>\n",
       "    <tr>\n",
       "      <th>21870</th>\n",
       "      <td>12490506</td>\n",
       "      <td>11.15.16 15:43</td>\n",
       "      <td>11.15.16 15:59</td>\n",
       "      <td>11.15.16 16:19</td>\n",
       "    </tr>\n",
       "    <tr>\n",
       "      <th>21871</th>\n",
       "      <td>12490506</td>\n",
       "      <td>11.15.16 15:43</td>\n",
       "      <td>11.15.16 15:59</td>\n",
       "      <td>11.15.16 16:19</td>\n",
       "    </tr>\n",
       "    <tr>\n",
       "      <th>21872</th>\n",
       "      <td>12943977</td>\n",
       "      <td>11.16.16 16:20</td>\n",
       "      <td>11.16.16 16:27</td>\n",
       "      <td>11.16.16 16:32</td>\n",
       "    </tr>\n",
       "  </tbody>\n",
       "</table>\n",
       "<p>21873 rows × 4 columns</p>\n",
       "</div>"
      ],
      "text/plain": [
       "          stMRN        dtArrive         dtBegin     dtCompleted\n",
       "0      12222732     4.4.16 8:00     4.4.16 8:04     4.4.16 8:11\n",
       "1      13510077     4.4.16 8:21     4.4.16 8:26     4.4.16 8:39\n",
       "2      11183882     4.4.16 8:33     4.4.16 8:44     4.4.16 8:44\n",
       "3      12949996     4.4.16 8:38     4.4.16 8:41     4.4.16 8:47\n",
       "4      11566221     4.4.16 8:26     4.4.16 8:33     4.4.16 8:53\n",
       "...         ...             ...             ...             ...\n",
       "21868   9672860  11.15.16 11:02  11.15.16 11:23  11.15.16 11:43\n",
       "21869  12075344  11.15.16 13:50  11.15.16 14:01  11.15.16 14:04\n",
       "21870  12490506  11.15.16 15:43  11.15.16 15:59  11.15.16 16:19\n",
       "21871  12490506  11.15.16 15:43  11.15.16 15:59  11.15.16 16:19\n",
       "21872  12943977  11.16.16 16:20  11.16.16 16:27  11.16.16 16:32\n",
       "\n",
       "[21873 rows x 4 columns]"
      ]
     },
     "execution_count": 123,
     "metadata": {},
     "output_type": "execute_result"
    }
   ],
   "source": [
    "dt = pd.read_csv('XRays.csv', delimiter=';')\n",
    "dt"
   ]
  },
  {
   "cell_type": "code",
   "execution_count": 124,
   "id": "886cdede-5715-4471-b7f9-2023cb506f3b",
   "metadata": {},
   "outputs": [
    {
     "data": {
      "text/plain": [
       "13330"
      ]
     },
     "execution_count": 124,
     "metadata": {},
     "output_type": "execute_result"
    }
   ],
   "source": [
    "dt = dt.drop_duplicates(keep='first', subset='stMRN')\n",
    "dt.shape[0]"
   ]
  },
  {
   "cell_type": "code",
   "execution_count": 125,
   "id": "5c542fcf-8ed0-415c-a733-2d71ff1edf87",
   "metadata": {},
   "outputs": [
    {
     "name": "stderr",
     "output_type": "stream",
     "text": [
      "C:\\Users\\Admin\\AppData\\Local\\Temp\\ipykernel_12004\\3790088247.py:1: UserWarning: Could not infer format, so each element will be parsed individually, falling back to `dateutil`. To ensure parsing is consistent and as-expected, please specify a format.\n",
      "  dt['dtArrive'] = pd.to_datetime(dt.dtArrive)\n",
      "C:\\Users\\Admin\\AppData\\Local\\Temp\\ipykernel_12004\\3790088247.py:1: SettingWithCopyWarning: \n",
      "A value is trying to be set on a copy of a slice from a DataFrame.\n",
      "Try using .loc[row_indexer,col_indexer] = value instead\n",
      "\n",
      "See the caveats in the documentation: https://pandas.pydata.org/pandas-docs/stable/user_guide/indexing.html#returning-a-view-versus-a-copy\n",
      "  dt['dtArrive'] = pd.to_datetime(dt.dtArrive)\n",
      "C:\\Users\\Admin\\AppData\\Local\\Temp\\ipykernel_12004\\3790088247.py:2: UserWarning: Could not infer format, so each element will be parsed individually, falling back to `dateutil`. To ensure parsing is consistent and as-expected, please specify a format.\n",
      "  dt['dtBegin'] = pd.to_datetime(dt.dtBegin)\n",
      "C:\\Users\\Admin\\AppData\\Local\\Temp\\ipykernel_12004\\3790088247.py:2: SettingWithCopyWarning: \n",
      "A value is trying to be set on a copy of a slice from a DataFrame.\n",
      "Try using .loc[row_indexer,col_indexer] = value instead\n",
      "\n",
      "See the caveats in the documentation: https://pandas.pydata.org/pandas-docs/stable/user_guide/indexing.html#returning-a-view-versus-a-copy\n",
      "  dt['dtBegin'] = pd.to_datetime(dt.dtBegin)\n",
      "C:\\Users\\Admin\\AppData\\Local\\Temp\\ipykernel_12004\\3790088247.py:3: UserWarning: Could not infer format, so each element will be parsed individually, falling back to `dateutil`. To ensure parsing is consistent and as-expected, please specify a format.\n",
      "  dt['dtCompleted'] = pd.to_datetime(dt.dtCompleted)\n",
      "C:\\Users\\Admin\\AppData\\Local\\Temp\\ipykernel_12004\\3790088247.py:3: SettingWithCopyWarning: \n",
      "A value is trying to be set on a copy of a slice from a DataFrame.\n",
      "Try using .loc[row_indexer,col_indexer] = value instead\n",
      "\n",
      "See the caveats in the documentation: https://pandas.pydata.org/pandas-docs/stable/user_guide/indexing.html#returning-a-view-versus-a-copy\n",
      "  dt['dtCompleted'] = pd.to_datetime(dt.dtCompleted)\n"
     ]
    },
    {
     "data": {
      "text/html": [
       "<div>\n",
       "<style scoped>\n",
       "    .dataframe tbody tr th:only-of-type {\n",
       "        vertical-align: middle;\n",
       "    }\n",
       "\n",
       "    .dataframe tbody tr th {\n",
       "        vertical-align: top;\n",
       "    }\n",
       "\n",
       "    .dataframe thead th {\n",
       "        text-align: right;\n",
       "    }\n",
       "</style>\n",
       "<table border=\"1\" class=\"dataframe\">\n",
       "  <thead>\n",
       "    <tr style=\"text-align: right;\">\n",
       "      <th></th>\n",
       "      <th>stMRN</th>\n",
       "      <th>dtArrive</th>\n",
       "      <th>dtBegin</th>\n",
       "      <th>dtCompleted</th>\n",
       "    </tr>\n",
       "  </thead>\n",
       "  <tbody>\n",
       "    <tr>\n",
       "      <th>0</th>\n",
       "      <td>12222732</td>\n",
       "      <td>2016-04-04 08:00:00</td>\n",
       "      <td>2016-04-04 08:04:00</td>\n",
       "      <td>2016-04-04 08:11:00</td>\n",
       "    </tr>\n",
       "    <tr>\n",
       "      <th>1</th>\n",
       "      <td>13510077</td>\n",
       "      <td>2016-04-04 08:21:00</td>\n",
       "      <td>2016-04-04 08:26:00</td>\n",
       "      <td>2016-04-04 08:39:00</td>\n",
       "    </tr>\n",
       "    <tr>\n",
       "      <th>2</th>\n",
       "      <td>11183882</td>\n",
       "      <td>2016-04-04 08:33:00</td>\n",
       "      <td>2016-04-04 08:44:00</td>\n",
       "      <td>2016-04-04 08:44:00</td>\n",
       "    </tr>\n",
       "    <tr>\n",
       "      <th>3</th>\n",
       "      <td>12949996</td>\n",
       "      <td>2016-04-04 08:38:00</td>\n",
       "      <td>2016-04-04 08:41:00</td>\n",
       "      <td>2016-04-04 08:47:00</td>\n",
       "    </tr>\n",
       "    <tr>\n",
       "      <th>4</th>\n",
       "      <td>11566221</td>\n",
       "      <td>2016-04-04 08:26:00</td>\n",
       "      <td>2016-04-04 08:33:00</td>\n",
       "      <td>2016-04-04 08:53:00</td>\n",
       "    </tr>\n",
       "    <tr>\n",
       "      <th>...</th>\n",
       "      <td>...</td>\n",
       "      <td>...</td>\n",
       "      <td>...</td>\n",
       "      <td>...</td>\n",
       "    </tr>\n",
       "    <tr>\n",
       "      <th>21860</th>\n",
       "      <td>13696864</td>\n",
       "      <td>2016-11-15 11:03:00</td>\n",
       "      <td>2016-11-15 11:08:00</td>\n",
       "      <td>2016-11-15 11:13:00</td>\n",
       "    </tr>\n",
       "    <tr>\n",
       "      <th>21864</th>\n",
       "      <td>13266746</td>\n",
       "      <td>2016-11-15 11:01:00</td>\n",
       "      <td>2016-11-15 11:10:00</td>\n",
       "      <td>2016-11-15 11:16:00</td>\n",
       "    </tr>\n",
       "    <tr>\n",
       "      <th>21867</th>\n",
       "      <td>13699907</td>\n",
       "      <td>2016-11-15 11:09:00</td>\n",
       "      <td>2016-11-15 11:16:00</td>\n",
       "      <td>2016-11-15 11:23:00</td>\n",
       "    </tr>\n",
       "    <tr>\n",
       "      <th>21868</th>\n",
       "      <td>9672860</td>\n",
       "      <td>2016-11-15 11:02:00</td>\n",
       "      <td>2016-11-15 11:23:00</td>\n",
       "      <td>2016-11-15 11:43:00</td>\n",
       "    </tr>\n",
       "    <tr>\n",
       "      <th>21872</th>\n",
       "      <td>12943977</td>\n",
       "      <td>2016-11-16 16:20:00</td>\n",
       "      <td>2016-11-16 16:27:00</td>\n",
       "      <td>2016-11-16 16:32:00</td>\n",
       "    </tr>\n",
       "  </tbody>\n",
       "</table>\n",
       "<p>13330 rows × 4 columns</p>\n",
       "</div>"
      ],
      "text/plain": [
       "          stMRN            dtArrive             dtBegin         dtCompleted\n",
       "0      12222732 2016-04-04 08:00:00 2016-04-04 08:04:00 2016-04-04 08:11:00\n",
       "1      13510077 2016-04-04 08:21:00 2016-04-04 08:26:00 2016-04-04 08:39:00\n",
       "2      11183882 2016-04-04 08:33:00 2016-04-04 08:44:00 2016-04-04 08:44:00\n",
       "3      12949996 2016-04-04 08:38:00 2016-04-04 08:41:00 2016-04-04 08:47:00\n",
       "4      11566221 2016-04-04 08:26:00 2016-04-04 08:33:00 2016-04-04 08:53:00\n",
       "...         ...                 ...                 ...                 ...\n",
       "21860  13696864 2016-11-15 11:03:00 2016-11-15 11:08:00 2016-11-15 11:13:00\n",
       "21864  13266746 2016-11-15 11:01:00 2016-11-15 11:10:00 2016-11-15 11:16:00\n",
       "21867  13699907 2016-11-15 11:09:00 2016-11-15 11:16:00 2016-11-15 11:23:00\n",
       "21868   9672860 2016-11-15 11:02:00 2016-11-15 11:23:00 2016-11-15 11:43:00\n",
       "21872  12943977 2016-11-16 16:20:00 2016-11-16 16:27:00 2016-11-16 16:32:00\n",
       "\n",
       "[13330 rows x 4 columns]"
      ]
     },
     "execution_count": 125,
     "metadata": {},
     "output_type": "execute_result"
    }
   ],
   "source": [
    "dt['dtArrive'] = pd.to_datetime(dt.dtArrive)\n",
    "dt['dtBegin'] = pd.to_datetime(dt.dtBegin)\n",
    "dt['dtCompleted'] = pd.to_datetime(dt.dtCompleted)\n",
    "dt"
   ]
  },
  {
   "cell_type": "code",
   "execution_count": 126,
   "id": "c28e7105-2114-437f-bf18-ceb3b37a223f",
   "metadata": {},
   "outputs": [
    {
     "data": {
      "text/plain": [
       "count                        13330\n",
       "mean     0 days 00:09:26.304576144\n",
       "std      0 days 00:59:30.643450138\n",
       "min              -1 days +23:31:00\n",
       "25%                0 days 00:05:00\n",
       "50%                0 days 00:08:00\n",
       "75%                0 days 00:11:00\n",
       "max                4 days 17:28:00\n",
       "dtype: object"
      ]
     },
     "execution_count": 126,
     "metadata": {},
     "output_type": "execute_result"
    }
   ],
   "source": [
    "(dt['dtCompleted'] - dt['dtBegin']).describe()"
   ]
  },
  {
   "cell_type": "code",
   "execution_count": 127,
   "id": "c89bfca9-f823-41e9-bda2-7c963e0c3eac",
   "metadata": {},
   "outputs": [],
   "source": [
    "dt = dt[(dt['dtCompleted'] - dt['dtBegin'] < datetime.timedelta(hours=1))]"
   ]
  },
  {
   "cell_type": "code",
   "execution_count": 128,
   "id": "02c3cb20-cddd-44c4-a51d-3a678412be64",
   "metadata": {},
   "outputs": [
    {
     "data": {
      "text/plain": [
       "<DatetimeArray>\n",
       "['2016-04-04 08:04:00', '2016-04-04 08:26:00', '2016-04-04 08:44:00',\n",
       " '2016-04-04 08:41:00', '2016-04-04 08:33:00', '2016-04-04 09:21:00',\n",
       " '2016-04-04 09:18:00', '2016-04-04 09:34:00', '2016-04-04 09:43:00',\n",
       " '2016-04-04 10:02:00',\n",
       " ...\n",
       " '2016-11-15 10:45:00', '2016-11-15 10:55:00', '2016-11-15 11:00:00',\n",
       " '2016-11-15 11:01:00', '2016-11-15 10:57:00', '2016-11-15 11:08:00',\n",
       " '2016-11-15 11:10:00', '2016-11-15 11:16:00', '2016-11-15 11:23:00',\n",
       " '2016-11-16 16:27:00']\n",
       "Length: 12263, dtype: datetime64[ns]"
      ]
     },
     "execution_count": 128,
     "metadata": {},
     "output_type": "execute_result"
    }
   ],
   "source": [
    "x = dt.dtBegin.unique()\n",
    "x"
   ]
  },
  {
   "cell_type": "code",
   "execution_count": 129,
   "id": "644b1c8a-ccde-4e58-9414-85cbd4a4d010",
   "metadata": {},
   "outputs": [],
   "source": [
    "import datetime"
   ]
  },
  {
   "cell_type": "code",
   "execution_count": 130,
   "id": "56af1471-b289-4732-bb4c-4edd8b07231e",
   "metadata": {},
   "outputs": [],
   "source": [
    "y = [(x0, dt[(dt['dtBegin'] <= x0) & (dt['dtCompleted'] >= x0)].shape[0]) for x0 in x]"
   ]
  },
  {
   "cell_type": "code",
   "execution_count": 131,
   "id": "4c34eda0-1817-4972-8ec1-63720b8559c5",
   "metadata": {},
   "outputs": [
    {
     "data": {
      "text/plain": [
       "(Timestamp('2016-06-23 10:30:00'), 8)"
      ]
     },
     "execution_count": 131,
     "metadata": {},
     "output_type": "execute_result"
    }
   ],
   "source": [
    "max(y, key=lambda k: k[1])"
   ]
  },
  {
   "cell_type": "code",
   "execution_count": null,
   "id": "ad30bb58-519f-442c-bb1e-84cdf406283a",
   "metadata": {},
   "outputs": [],
   "source": []
  }
 ],
 "metadata": {
  "kernelspec": {
   "display_name": "Python 3 (ipykernel)",
   "language": "python",
   "name": "python3"
  },
  "language_info": {
   "codemirror_mode": {
    "name": "ipython",
    "version": 3
   },
   "file_extension": ".py",
   "mimetype": "text/x-python",
   "name": "python",
   "nbconvert_exporter": "python",
   "pygments_lexer": "ipython3",
   "version": "3.9.18"
  }
 },
 "nbformat": 4,
 "nbformat_minor": 5
}
