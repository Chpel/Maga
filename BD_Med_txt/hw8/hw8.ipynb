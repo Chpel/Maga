{
 "cells": [
  {
   "cell_type": "markdown",
   "metadata": {},
   "source": [
    "The value of x4 is:\n",
    "\n",
    "    0\n",
    "    3\n",
    "    x1+1\n",
    "    x1-1 (+)\n",
    "    x1-4\n",
    "    -x1"
   ]
  },
  {
   "cell_type": "markdown",
   "metadata": {},
   "source": [
    "Smooth solutions are often desirable to minimize random noise in the acquired data1\n",
    "\n",
    "Find smooth\n",
    "solution to our problem (Question 1).\n",
    "Hint: use your solution to Question 1\n",
    "\n",
    "     x1=3, x2=0, x3=1, x4=2\n",
    "     x1=1, x2=2, x3=3, x4=0\n",
    "     x1=2, x2=1, x3=2, x4=2\n",
    "     x1=0, x2=3, x3=4, x4=‐1\n",
    "     x1=2, x2=1, x3=2, x4=1 (+)"
   ]
  },
  {
   "cell_type": "markdown",
   "metadata": {},
   "source": [
    "Let’s assume we added one more projection x2+ x3=3 to the original problem from Question 1 (Figure 2).\n",
    "Find all xi:\n",
    "\n",
    "     x1=3, x2=0, x3=1, x4=2\n",
    "     x1=1, x2=2, x3=3, x4=0\n",
    "     x1=2, x2=1, x3=2, x4=2\n",
    "     x1=0, x2=3, x3=4, x4=‐1\n",
    "     x1=2, x2=1, x3=2, x4=1"
   ]
  },
  {
   "cell_type": "markdown",
   "metadata": {},
   "source": [
    "Given radiation exposure concerns, which solution to the original problem (Question 1) would be\n",
    "preferable, and why?\n",
    "\n",
    "     Smooth solution from Question 2\n",
    "     Extra projection solution from Question 3\n",
    "     Both are equally preferable (+?)\n",
    "     We need more projections\n",
    "     We need more radiation"
   ]
  },
  {
   "cell_type": "markdown",
   "metadata": {},
   "source": [
    "# Question 5: (3 pts)\n",
    "\n",
    "Remember how we “created” a sinogram of a simple square shape in the class? Use the same approach\n",
    "to solve the sinogram problems below. In the following problems, we use white (background) color for\n",
    "zero intensity, and yellow (foreground) – for unit intensity.\n",
    "Without any software (using sinogram definition only), draw the sinogram of the circle with radius R,\n",
    "centered at (0,0) (center of Radon projection):\n",
    "What your answer looks like?\n",
    "\n",
    "     Triangle\n",
    "     Point\n",
    "     Line (+)\n",
    "     Mona Lisa\n",
    "     Two lines"
   ]
  },
  {
   "cell_type": "markdown",
   "metadata": {},
   "source": [
    "# Question 6: (3 pts)\n",
    "What happens to the reconstructed image if we have a noisy sonogram (for example, from a low‐\n",
    "radiation scan)? We can answer this question by reconstructing a single “noisy” pixel.\n",
    "Recover the original image from its single‐dot sinogram (assume that the dot radius is negligibly small):\n",
    "What your answer looks like?\n",
    "\n",
    "     Triangle\n",
    "     Point\n",
    "     Line (+)\n",
    "     Mona Lisa\n",
    "     Two lines"
   ]
  },
  {
   "cell_type": "markdown",
   "metadata": {},
   "source": [
    "# Question 7: (2 pts)\n",
    "Can AI be used to detect certain patient conditions from the original raw data, without reconstructing\n",
    "the images?\n",
    "\n",
    "     No, AI cannot do this\n",
    "     No, it takes too much processing time (+)\n",
    "     Yes, and this is the way to do this\n",
    "     Yes, but the physician will need the reconstructed image anyway"
   ]
  },
  {
   "cell_type": "markdown",
   "metadata": {},
   "source": [
    "# Question 8: (2 pts)\n",
    "AI is becoming increasingly used during medical image acquisition because\n",
    "\n",
    "     It adds colors to otherwise greyscale images\n",
    "     It helps reconstruct diagnostic images from noisier or partial data (+)\n",
    "     It converts images to DICOM\n",
    "     It creates 3D reconstructions from the images"
   ]
  },
  {
   "cell_type": "markdown",
   "metadata": {},
   "source": []
  }
 ],
 "metadata": {
  "language_info": {
   "name": "python"
  }
 },
 "nbformat": 4,
 "nbformat_minor": 2
}
