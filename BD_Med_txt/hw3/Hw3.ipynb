{
 "cells": [
  {
   "cell_type": "code",
   "execution_count": 34,
   "id": "a7991b39-9b14-4f58-87c7-4647cf4a7e9b",
   "metadata": {},
   "outputs": [],
   "source": [
    "import pandas as pd\n",
    "import datetime"
   ]
  },
  {
   "cell_type": "code",
   "execution_count": 35,
   "id": "f5e8712d-cedd-4793-9d26-34ff537f3b66",
   "metadata": {},
   "outputs": [
    {
     "data": {
      "text/html": [
       "<div>\n",
       "<style scoped>\n",
       "    .dataframe tbody tr th:only-of-type {\n",
       "        vertical-align: middle;\n",
       "    }\n",
       "\n",
       "    .dataframe tbody tr th {\n",
       "        vertical-align: top;\n",
       "    }\n",
       "\n",
       "    .dataframe thead th {\n",
       "        text-align: right;\n",
       "    }\n",
       "</style>\n",
       "<table border=\"1\" class=\"dataframe\">\n",
       "  <thead>\n",
       "    <tr style=\"text-align: right;\">\n",
       "      <th></th>\n",
       "      <th>stMRN</th>\n",
       "      <th>dtArrive</th>\n",
       "      <th>dtBegin</th>\n",
       "      <th>dtCompleted</th>\n",
       "    </tr>\n",
       "  </thead>\n",
       "  <tbody>\n",
       "    <tr>\n",
       "      <th>0</th>\n",
       "      <td>12222732</td>\n",
       "      <td>4.4.16 8:00</td>\n",
       "      <td>4.4.16 8:04</td>\n",
       "      <td>4.4.16 8:11</td>\n",
       "    </tr>\n",
       "    <tr>\n",
       "      <th>1</th>\n",
       "      <td>13510077</td>\n",
       "      <td>4.4.16 8:21</td>\n",
       "      <td>4.4.16 8:26</td>\n",
       "      <td>4.4.16 8:39</td>\n",
       "    </tr>\n",
       "    <tr>\n",
       "      <th>2</th>\n",
       "      <td>11183882</td>\n",
       "      <td>4.4.16 8:33</td>\n",
       "      <td>4.4.16 8:44</td>\n",
       "      <td>4.4.16 8:44</td>\n",
       "    </tr>\n",
       "    <tr>\n",
       "      <th>3</th>\n",
       "      <td>12949996</td>\n",
       "      <td>4.4.16 8:38</td>\n",
       "      <td>4.4.16 8:41</td>\n",
       "      <td>4.4.16 8:47</td>\n",
       "    </tr>\n",
       "    <tr>\n",
       "      <th>4</th>\n",
       "      <td>11566221</td>\n",
       "      <td>4.4.16 8:26</td>\n",
       "      <td>4.4.16 8:33</td>\n",
       "      <td>4.4.16 8:53</td>\n",
       "    </tr>\n",
       "    <tr>\n",
       "      <th>...</th>\n",
       "      <td>...</td>\n",
       "      <td>...</td>\n",
       "      <td>...</td>\n",
       "      <td>...</td>\n",
       "    </tr>\n",
       "    <tr>\n",
       "      <th>21868</th>\n",
       "      <td>9672860</td>\n",
       "      <td>11.15.16 11:02</td>\n",
       "      <td>11.15.16 11:23</td>\n",
       "      <td>11.15.16 11:43</td>\n",
       "    </tr>\n",
       "    <tr>\n",
       "      <th>21869</th>\n",
       "      <td>12075344</td>\n",
       "      <td>11.15.16 13:50</td>\n",
       "      <td>11.15.16 14:01</td>\n",
       "      <td>11.15.16 14:04</td>\n",
       "    </tr>\n",
       "    <tr>\n",
       "      <th>21870</th>\n",
       "      <td>12490506</td>\n",
       "      <td>11.15.16 15:43</td>\n",
       "      <td>11.15.16 15:59</td>\n",
       "      <td>11.15.16 16:19</td>\n",
       "    </tr>\n",
       "    <tr>\n",
       "      <th>21871</th>\n",
       "      <td>12490506</td>\n",
       "      <td>11.15.16 15:43</td>\n",
       "      <td>11.15.16 15:59</td>\n",
       "      <td>11.15.16 16:19</td>\n",
       "    </tr>\n",
       "    <tr>\n",
       "      <th>21872</th>\n",
       "      <td>12943977</td>\n",
       "      <td>11.16.16 16:20</td>\n",
       "      <td>11.16.16 16:27</td>\n",
       "      <td>11.16.16 16:32</td>\n",
       "    </tr>\n",
       "  </tbody>\n",
       "</table>\n",
       "<p>21873 rows × 4 columns</p>\n",
       "</div>"
      ],
      "text/plain": [
       "          stMRN        dtArrive         dtBegin     dtCompleted\n",
       "0      12222732     4.4.16 8:00     4.4.16 8:04     4.4.16 8:11\n",
       "1      13510077     4.4.16 8:21     4.4.16 8:26     4.4.16 8:39\n",
       "2      11183882     4.4.16 8:33     4.4.16 8:44     4.4.16 8:44\n",
       "3      12949996     4.4.16 8:38     4.4.16 8:41     4.4.16 8:47\n",
       "4      11566221     4.4.16 8:26     4.4.16 8:33     4.4.16 8:53\n",
       "...         ...             ...             ...             ...\n",
       "21868   9672860  11.15.16 11:02  11.15.16 11:23  11.15.16 11:43\n",
       "21869  12075344  11.15.16 13:50  11.15.16 14:01  11.15.16 14:04\n",
       "21870  12490506  11.15.16 15:43  11.15.16 15:59  11.15.16 16:19\n",
       "21871  12490506  11.15.16 15:43  11.15.16 15:59  11.15.16 16:19\n",
       "21872  12943977  11.16.16 16:20  11.16.16 16:27  11.16.16 16:32\n",
       "\n",
       "[21873 rows x 4 columns]"
      ]
     },
     "execution_count": 35,
     "metadata": {},
     "output_type": "execute_result"
    }
   ],
   "source": [
    "dt = pd.read_csv('C:\\\\Users\\\\Admin\\\\Documents\\\\Github\\\\Maga\\\\datasets\\\\XRays.csv', delimiter=';')\n",
    "dt"
   ]
  },
  {
   "cell_type": "markdown",
   "id": "3a867945-18de-47a4-9d92-75ec9bc134d0",
   "metadata": {},
   "source": [
    "# Задание 6"
   ]
  },
  {
   "cell_type": "code",
   "execution_count": 36,
   "id": "886cdede-5715-4471-b7f9-2023cb506f3b",
   "metadata": {},
   "outputs": [
    {
     "data": {
      "text/plain": [
       "21283"
      ]
     },
     "execution_count": 36,
     "metadata": {},
     "output_type": "execute_result"
    }
   ],
   "source": [
    "dt = dt.drop_duplicates(keep='first')#, subset='stMRN')\n",
    "dt.shape[0]"
   ]
  },
  {
   "cell_type": "code",
   "execution_count": 37,
   "id": "5c542fcf-8ed0-415c-a733-2d71ff1edf87",
   "metadata": {},
   "outputs": [
    {
     "name": "stderr",
     "output_type": "stream",
     "text": [
      "C:\\Users\\Admin\\AppData\\Local\\Temp\\ipykernel_15460\\3790088247.py:1: UserWarning: Could not infer format, so each element will be parsed individually, falling back to `dateutil`. To ensure parsing is consistent and as-expected, please specify a format.\n",
      "  dt['dtArrive'] = pd.to_datetime(dt.dtArrive)\n",
      "C:\\Users\\Admin\\AppData\\Local\\Temp\\ipykernel_15460\\3790088247.py:1: SettingWithCopyWarning: \n",
      "A value is trying to be set on a copy of a slice from a DataFrame.\n",
      "Try using .loc[row_indexer,col_indexer] = value instead\n",
      "\n",
      "See the caveats in the documentation: https://pandas.pydata.org/pandas-docs/stable/user_guide/indexing.html#returning-a-view-versus-a-copy\n",
      "  dt['dtArrive'] = pd.to_datetime(dt.dtArrive)\n",
      "C:\\Users\\Admin\\AppData\\Local\\Temp\\ipykernel_15460\\3790088247.py:2: UserWarning: Could not infer format, so each element will be parsed individually, falling back to `dateutil`. To ensure parsing is consistent and as-expected, please specify a format.\n",
      "  dt['dtBegin'] = pd.to_datetime(dt.dtBegin)\n",
      "C:\\Users\\Admin\\AppData\\Local\\Temp\\ipykernel_15460\\3790088247.py:2: SettingWithCopyWarning: \n",
      "A value is trying to be set on a copy of a slice from a DataFrame.\n",
      "Try using .loc[row_indexer,col_indexer] = value instead\n",
      "\n",
      "See the caveats in the documentation: https://pandas.pydata.org/pandas-docs/stable/user_guide/indexing.html#returning-a-view-versus-a-copy\n",
      "  dt['dtBegin'] = pd.to_datetime(dt.dtBegin)\n",
      "C:\\Users\\Admin\\AppData\\Local\\Temp\\ipykernel_15460\\3790088247.py:3: UserWarning: Could not infer format, so each element will be parsed individually, falling back to `dateutil`. To ensure parsing is consistent and as-expected, please specify a format.\n",
      "  dt['dtCompleted'] = pd.to_datetime(dt.dtCompleted)\n",
      "C:\\Users\\Admin\\AppData\\Local\\Temp\\ipykernel_15460\\3790088247.py:3: SettingWithCopyWarning: \n",
      "A value is trying to be set on a copy of a slice from a DataFrame.\n",
      "Try using .loc[row_indexer,col_indexer] = value instead\n",
      "\n",
      "See the caveats in the documentation: https://pandas.pydata.org/pandas-docs/stable/user_guide/indexing.html#returning-a-view-versus-a-copy\n",
      "  dt['dtCompleted'] = pd.to_datetime(dt.dtCompleted)\n"
     ]
    },
    {
     "data": {
      "text/html": [
       "<div>\n",
       "<style scoped>\n",
       "    .dataframe tbody tr th:only-of-type {\n",
       "        vertical-align: middle;\n",
       "    }\n",
       "\n",
       "    .dataframe tbody tr th {\n",
       "        vertical-align: top;\n",
       "    }\n",
       "\n",
       "    .dataframe thead th {\n",
       "        text-align: right;\n",
       "    }\n",
       "</style>\n",
       "<table border=\"1\" class=\"dataframe\">\n",
       "  <thead>\n",
       "    <tr style=\"text-align: right;\">\n",
       "      <th></th>\n",
       "      <th>stMRN</th>\n",
       "      <th>dtArrive</th>\n",
       "      <th>dtBegin</th>\n",
       "      <th>dtCompleted</th>\n",
       "    </tr>\n",
       "  </thead>\n",
       "  <tbody>\n",
       "    <tr>\n",
       "      <th>0</th>\n",
       "      <td>12222732</td>\n",
       "      <td>2016-04-04 08:00:00</td>\n",
       "      <td>2016-04-04 08:04:00</td>\n",
       "      <td>2016-04-04 08:11:00</td>\n",
       "    </tr>\n",
       "    <tr>\n",
       "      <th>1</th>\n",
       "      <td>13510077</td>\n",
       "      <td>2016-04-04 08:21:00</td>\n",
       "      <td>2016-04-04 08:26:00</td>\n",
       "      <td>2016-04-04 08:39:00</td>\n",
       "    </tr>\n",
       "    <tr>\n",
       "      <th>2</th>\n",
       "      <td>11183882</td>\n",
       "      <td>2016-04-04 08:33:00</td>\n",
       "      <td>2016-04-04 08:44:00</td>\n",
       "      <td>2016-04-04 08:44:00</td>\n",
       "    </tr>\n",
       "    <tr>\n",
       "      <th>3</th>\n",
       "      <td>12949996</td>\n",
       "      <td>2016-04-04 08:38:00</td>\n",
       "      <td>2016-04-04 08:41:00</td>\n",
       "      <td>2016-04-04 08:47:00</td>\n",
       "    </tr>\n",
       "    <tr>\n",
       "      <th>4</th>\n",
       "      <td>11566221</td>\n",
       "      <td>2016-04-04 08:26:00</td>\n",
       "      <td>2016-04-04 08:33:00</td>\n",
       "      <td>2016-04-04 08:53:00</td>\n",
       "    </tr>\n",
       "    <tr>\n",
       "      <th>...</th>\n",
       "      <td>...</td>\n",
       "      <td>...</td>\n",
       "      <td>...</td>\n",
       "      <td>...</td>\n",
       "    </tr>\n",
       "    <tr>\n",
       "      <th>21867</th>\n",
       "      <td>13699907</td>\n",
       "      <td>2016-11-15 11:09:00</td>\n",
       "      <td>2016-11-15 11:16:00</td>\n",
       "      <td>2016-11-15 11:23:00</td>\n",
       "    </tr>\n",
       "    <tr>\n",
       "      <th>21868</th>\n",
       "      <td>9672860</td>\n",
       "      <td>2016-11-15 11:02:00</td>\n",
       "      <td>2016-11-15 11:23:00</td>\n",
       "      <td>2016-11-15 11:43:00</td>\n",
       "    </tr>\n",
       "    <tr>\n",
       "      <th>21869</th>\n",
       "      <td>12075344</td>\n",
       "      <td>2016-11-15 13:50:00</td>\n",
       "      <td>2016-11-15 14:01:00</td>\n",
       "      <td>2016-11-15 14:04:00</td>\n",
       "    </tr>\n",
       "    <tr>\n",
       "      <th>21870</th>\n",
       "      <td>12490506</td>\n",
       "      <td>2016-11-15 15:43:00</td>\n",
       "      <td>2016-11-15 15:59:00</td>\n",
       "      <td>2016-11-15 16:19:00</td>\n",
       "    </tr>\n",
       "    <tr>\n",
       "      <th>21872</th>\n",
       "      <td>12943977</td>\n",
       "      <td>2016-11-16 16:20:00</td>\n",
       "      <td>2016-11-16 16:27:00</td>\n",
       "      <td>2016-11-16 16:32:00</td>\n",
       "    </tr>\n",
       "  </tbody>\n",
       "</table>\n",
       "<p>21283 rows × 4 columns</p>\n",
       "</div>"
      ],
      "text/plain": [
       "          stMRN            dtArrive             dtBegin         dtCompleted\n",
       "0      12222732 2016-04-04 08:00:00 2016-04-04 08:04:00 2016-04-04 08:11:00\n",
       "1      13510077 2016-04-04 08:21:00 2016-04-04 08:26:00 2016-04-04 08:39:00\n",
       "2      11183882 2016-04-04 08:33:00 2016-04-04 08:44:00 2016-04-04 08:44:00\n",
       "3      12949996 2016-04-04 08:38:00 2016-04-04 08:41:00 2016-04-04 08:47:00\n",
       "4      11566221 2016-04-04 08:26:00 2016-04-04 08:33:00 2016-04-04 08:53:00\n",
       "...         ...                 ...                 ...                 ...\n",
       "21867  13699907 2016-11-15 11:09:00 2016-11-15 11:16:00 2016-11-15 11:23:00\n",
       "21868   9672860 2016-11-15 11:02:00 2016-11-15 11:23:00 2016-11-15 11:43:00\n",
       "21869  12075344 2016-11-15 13:50:00 2016-11-15 14:01:00 2016-11-15 14:04:00\n",
       "21870  12490506 2016-11-15 15:43:00 2016-11-15 15:59:00 2016-11-15 16:19:00\n",
       "21872  12943977 2016-11-16 16:20:00 2016-11-16 16:27:00 2016-11-16 16:32:00\n",
       "\n",
       "[21283 rows x 4 columns]"
      ]
     },
     "execution_count": 37,
     "metadata": {},
     "output_type": "execute_result"
    }
   ],
   "source": [
    "dt['dtArrive'] = pd.to_datetime(dt.dtArrive)\n",
    "dt['dtBegin'] = pd.to_datetime(dt.dtBegin)\n",
    "dt['dtCompleted'] = pd.to_datetime(dt.dtCompleted)\n",
    "dt"
   ]
  },
  {
   "cell_type": "code",
   "execution_count": 38,
   "id": "c28e7105-2114-437f-bf18-ceb3b37a223f",
   "metadata": {},
   "outputs": [
    {
     "data": {
      "text/plain": [
       "count                        21283\n",
       "mean     0 days 00:10:06.235962975\n",
       "std      0 days 00:47:47.277901719\n",
       "min              -1 days +22:23:00\n",
       "25%                0 days 00:05:00\n",
       "50%                0 days 00:08:00\n",
       "75%                0 days 00:12:00\n",
       "max                4 days 17:28:00\n",
       "dtype: object"
      ]
     },
     "execution_count": 38,
     "metadata": {},
     "output_type": "execute_result"
    }
   ],
   "source": [
    "(dt['dtCompleted'] - dt['dtBegin']).describe()"
   ]
  },
  {
   "cell_type": "code",
   "execution_count": 39,
   "id": "c89bfca9-f823-41e9-bda2-7c963e0c3eac",
   "metadata": {},
   "outputs": [],
   "source": [
    "dt = dt[(dt['dtCompleted'] - dt['dtBegin'] < datetime.timedelta(hours=1))]"
   ]
  },
  {
   "cell_type": "code",
   "execution_count": 40,
   "id": "02c3cb20-cddd-44c4-a51d-3a678412be64",
   "metadata": {},
   "outputs": [
    {
     "data": {
      "text/plain": [
       "<DatetimeArray>\n",
       "['2016-04-04 08:04:00', '2016-04-04 08:26:00', '2016-04-04 08:44:00',\n",
       " '2016-04-04 08:41:00', '2016-04-04 08:33:00', '2016-04-04 09:21:00',\n",
       " '2016-04-04 09:18:00', '2016-04-04 09:34:00', '2016-04-04 09:43:00',\n",
       " '2016-04-04 10:02:00',\n",
       " ...\n",
       " '2016-11-15 11:08:00', '2016-11-15 11:02:00', '2016-11-15 11:05:00',\n",
       " '2016-11-15 11:10:00', '2016-11-15 11:18:00', '2016-11-15 11:16:00',\n",
       " '2016-11-15 11:23:00', '2016-11-15 14:01:00', '2016-11-15 15:59:00',\n",
       " '2016-11-16 16:27:00']\n",
       "Length: 17714, dtype: datetime64[ns]"
      ]
     },
     "execution_count": 40,
     "metadata": {},
     "output_type": "execute_result"
    }
   ],
   "source": [
    "x = dt.dtBegin.unique()\n",
    "x"
   ]
  },
  {
   "cell_type": "code",
   "execution_count": 41,
   "id": "56af1471-b289-4732-bb4c-4edd8b07231e",
   "metadata": {},
   "outputs": [],
   "source": [
    "y = [(x0, dt[(dt['dtBegin'] <= x0) & (dt['dtCompleted'] > x0)].shape[0]) for x0 in x]\n",
    "d = max(y, key=lambda k: k[1])"
   ]
  },
  {
   "cell_type": "code",
   "execution_count": 44,
   "id": "63d9b432-733f-4439-b323-fd55ea023fdd",
   "metadata": {},
   "outputs": [
    {
     "data": {
      "text/plain": [
       "15"
      ]
     },
     "execution_count": 44,
     "metadata": {},
     "output_type": "execute_result"
    }
   ],
   "source": [
    "d[1]"
   ]
  },
  {
   "cell_type": "code",
   "execution_count": 43,
   "id": "c2a71ae2-bc19-4460-9ffa-3f4a6177fe08",
   "metadata": {},
   "outputs": [
    {
     "data": {
      "text/html": [
       "<div>\n",
       "<style scoped>\n",
       "    .dataframe tbody tr th:only-of-type {\n",
       "        vertical-align: middle;\n",
       "    }\n",
       "\n",
       "    .dataframe tbody tr th {\n",
       "        vertical-align: top;\n",
       "    }\n",
       "\n",
       "    .dataframe thead th {\n",
       "        text-align: right;\n",
       "    }\n",
       "</style>\n",
       "<table border=\"1\" class=\"dataframe\">\n",
       "  <thead>\n",
       "    <tr style=\"text-align: right;\">\n",
       "      <th></th>\n",
       "      <th>stMRN</th>\n",
       "      <th>dtArrive</th>\n",
       "      <th>dtBegin</th>\n",
       "      <th>dtCompleted</th>\n",
       "    </tr>\n",
       "  </thead>\n",
       "  <tbody>\n",
       "    <tr>\n",
       "      <th>11529</th>\n",
       "      <td>12857795</td>\n",
       "      <td>2016-08-09 10:42:00</td>\n",
       "      <td>2016-08-09 10:58:00</td>\n",
       "      <td>2016-08-09 11:05:00</td>\n",
       "    </tr>\n",
       "    <tr>\n",
       "      <th>11530</th>\n",
       "      <td>9294162</td>\n",
       "      <td>2016-08-09 10:38:00</td>\n",
       "      <td>2016-08-09 10:50:00</td>\n",
       "      <td>2016-08-09 11:08:00</td>\n",
       "    </tr>\n",
       "    <tr>\n",
       "      <th>11531</th>\n",
       "      <td>9294162</td>\n",
       "      <td>2016-08-09 10:38:00</td>\n",
       "      <td>2016-08-09 10:51:00</td>\n",
       "      <td>2016-08-09 11:09:00</td>\n",
       "    </tr>\n",
       "    <tr>\n",
       "      <th>11532</th>\n",
       "      <td>9294162</td>\n",
       "      <td>2016-08-09 10:37:00</td>\n",
       "      <td>2016-08-09 10:51:00</td>\n",
       "      <td>2016-08-09 11:09:00</td>\n",
       "    </tr>\n",
       "    <tr>\n",
       "      <th>11533</th>\n",
       "      <td>8284043</td>\n",
       "      <td>2016-08-09 10:22:00</td>\n",
       "      <td>2016-08-09 10:34:00</td>\n",
       "      <td>2016-08-09 11:10:00</td>\n",
       "    </tr>\n",
       "    <tr>\n",
       "      <th>11534</th>\n",
       "      <td>8284043</td>\n",
       "      <td>2016-08-09 10:23:00</td>\n",
       "      <td>2016-08-09 10:35:00</td>\n",
       "      <td>2016-08-09 11:10:00</td>\n",
       "    </tr>\n",
       "    <tr>\n",
       "      <th>11535</th>\n",
       "      <td>13575471</td>\n",
       "      <td>2016-08-09 10:44:00</td>\n",
       "      <td>2016-08-09 11:00:00</td>\n",
       "      <td>2016-08-09 11:12:00</td>\n",
       "    </tr>\n",
       "    <tr>\n",
       "      <th>11536</th>\n",
       "      <td>9742016</td>\n",
       "      <td>2016-08-09 10:40:00</td>\n",
       "      <td>2016-08-09 10:57:00</td>\n",
       "      <td>2016-08-09 11:18:00</td>\n",
       "    </tr>\n",
       "    <tr>\n",
       "      <th>11538</th>\n",
       "      <td>8341006</td>\n",
       "      <td>2016-08-09 11:01:00</td>\n",
       "      <td>2016-08-09 11:04:00</td>\n",
       "      <td>2016-08-09 11:20:00</td>\n",
       "    </tr>\n",
       "    <tr>\n",
       "      <th>11540</th>\n",
       "      <td>13680290</td>\n",
       "      <td>2016-08-09 10:39:00</td>\n",
       "      <td>2016-08-09 10:51:00</td>\n",
       "      <td>2016-08-09 11:26:00</td>\n",
       "    </tr>\n",
       "    <tr>\n",
       "      <th>11542</th>\n",
       "      <td>13680290</td>\n",
       "      <td>2016-08-09 10:38:00</td>\n",
       "      <td>2016-08-09 10:54:00</td>\n",
       "      <td>2016-08-09 11:28:00</td>\n",
       "    </tr>\n",
       "    <tr>\n",
       "      <th>11544</th>\n",
       "      <td>13680290</td>\n",
       "      <td>2016-08-09 10:39:00</td>\n",
       "      <td>2016-08-09 10:45:00</td>\n",
       "      <td>2016-08-09 11:28:00</td>\n",
       "    </tr>\n",
       "    <tr>\n",
       "      <th>11545</th>\n",
       "      <td>13680290</td>\n",
       "      <td>2016-08-09 10:39:00</td>\n",
       "      <td>2016-08-09 10:51:00</td>\n",
       "      <td>2016-08-09 11:28:00</td>\n",
       "    </tr>\n",
       "    <tr>\n",
       "      <th>11546</th>\n",
       "      <td>13680290</td>\n",
       "      <td>2016-08-09 10:41:00</td>\n",
       "      <td>2016-08-09 10:44:00</td>\n",
       "      <td>2016-08-09 11:29:00</td>\n",
       "    </tr>\n",
       "    <tr>\n",
       "      <th>11548</th>\n",
       "      <td>13680290</td>\n",
       "      <td>2016-08-09 10:40:00</td>\n",
       "      <td>2016-08-09 10:43:00</td>\n",
       "      <td>2016-08-09 11:29:00</td>\n",
       "    </tr>\n",
       "  </tbody>\n",
       "</table>\n",
       "</div>"
      ],
      "text/plain": [
       "          stMRN            dtArrive             dtBegin         dtCompleted\n",
       "11529  12857795 2016-08-09 10:42:00 2016-08-09 10:58:00 2016-08-09 11:05:00\n",
       "11530   9294162 2016-08-09 10:38:00 2016-08-09 10:50:00 2016-08-09 11:08:00\n",
       "11531   9294162 2016-08-09 10:38:00 2016-08-09 10:51:00 2016-08-09 11:09:00\n",
       "11532   9294162 2016-08-09 10:37:00 2016-08-09 10:51:00 2016-08-09 11:09:00\n",
       "11533   8284043 2016-08-09 10:22:00 2016-08-09 10:34:00 2016-08-09 11:10:00\n",
       "11534   8284043 2016-08-09 10:23:00 2016-08-09 10:35:00 2016-08-09 11:10:00\n",
       "11535  13575471 2016-08-09 10:44:00 2016-08-09 11:00:00 2016-08-09 11:12:00\n",
       "11536   9742016 2016-08-09 10:40:00 2016-08-09 10:57:00 2016-08-09 11:18:00\n",
       "11538   8341006 2016-08-09 11:01:00 2016-08-09 11:04:00 2016-08-09 11:20:00\n",
       "11540  13680290 2016-08-09 10:39:00 2016-08-09 10:51:00 2016-08-09 11:26:00\n",
       "11542  13680290 2016-08-09 10:38:00 2016-08-09 10:54:00 2016-08-09 11:28:00\n",
       "11544  13680290 2016-08-09 10:39:00 2016-08-09 10:45:00 2016-08-09 11:28:00\n",
       "11545  13680290 2016-08-09 10:39:00 2016-08-09 10:51:00 2016-08-09 11:28:00\n",
       "11546  13680290 2016-08-09 10:41:00 2016-08-09 10:44:00 2016-08-09 11:29:00\n",
       "11548  13680290 2016-08-09 10:40:00 2016-08-09 10:43:00 2016-08-09 11:29:00"
      ]
     },
     "execution_count": 43,
     "metadata": {},
     "output_type": "execute_result"
    }
   ],
   "source": [
    "dt[(dt['dtBegin'] <= d[0]) & (dt['dtCompleted'] > d[0])]"
   ]
  },
  {
   "cell_type": "markdown",
   "id": "d842ca31-8ed5-4844-b2a8-65feffa6009a",
   "metadata": {},
   "source": [
    "# Задание 7"
   ]
  },
  {
   "cell_type": "code",
   "execution_count": 45,
   "id": "0ee1f89f-4d93-462c-b024-9b43b10ca69a",
   "metadata": {},
   "outputs": [
    {
     "data": {
      "text/plain": [
       "<DatetimeArray>\n",
       "['2016-04-04 08:00:00', '2016-04-04 08:21:00', '2016-04-04 08:33:00',\n",
       " '2016-04-04 08:38:00', '2016-04-04 08:26:00', '2016-04-04 09:08:00',\n",
       " '2016-04-04 09:15:00', '2016-04-04 09:27:00', '2016-04-04 09:22:00',\n",
       " '2016-04-04 09:33:00',\n",
       " ...\n",
       " '2016-11-15 11:03:00', '2016-11-15 10:55:00', '2016-11-15 10:57:00',\n",
       " '2016-11-15 11:04:00', '2016-11-15 11:01:00', '2016-11-15 11:09:00',\n",
       " '2016-11-15 11:02:00', '2016-11-15 13:50:00', '2016-11-15 15:43:00',\n",
       " '2016-11-16 16:20:00']\n",
       "Length: 19016, dtype: datetime64[ns]"
      ]
     },
     "execution_count": 45,
     "metadata": {},
     "output_type": "execute_result"
    }
   ],
   "source": [
    "x = dt.dtArrive.unique()\n",
    "x"
   ]
  },
  {
   "cell_type": "code",
   "execution_count": 48,
   "id": "4eee5bca-52f3-40bc-8b6c-3575bcf6c987",
   "metadata": {},
   "outputs": [],
   "source": [
    "y = [(x0, dt[(dt['dtArrive'] <= x0) & (dt['dtBegin'] > x0)].shape[0]) for x0 in x]\n",
    "d = max(y, key=lambda k: k[1])"
   ]
  },
  {
   "cell_type": "code",
   "execution_count": 49,
   "id": "4be33388-262e-4aa3-bdef-faaa09f64090",
   "metadata": {},
   "outputs": [
    {
     "data": {
      "text/plain": [
       "(Timestamp('2016-10-13 11:25:00'), 34)"
      ]
     },
     "execution_count": 49,
     "metadata": {},
     "output_type": "execute_result"
    }
   ],
   "source": [
    "d"
   ]
  },
  {
   "cell_type": "code",
   "execution_count": 50,
   "id": "73437968-597e-42f9-8d8b-be81a1bbe64a",
   "metadata": {},
   "outputs": [],
   "source": [
    "import matplotlib.pyplot as plt"
   ]
  },
  {
   "cell_type": "code",
   "execution_count": 54,
   "id": "8f816853-dfb1-4cc4-bcfd-e719149a5e64",
   "metadata": {},
   "outputs": [
    {
     "data": {
      "text/plain": [
       "<matplotlib.collections.PathCollection at 0x1bd49ede460>"
      ]
     },
     "execution_count": 54,
     "metadata": {},
     "output_type": "execute_result"
    },
    {
     "data": {
      "image/png": "[encoded data removed]",
      "text/plain": [
       "<Figure size 640x480 with 1 Axes>"
      ]
     },
     "metadata": {},
     "output_type": "display_data"
    }
   ],
   "source": [
    "plt.scatter([x0 for x0, y0 in y], [y0 for x0,y0 in y])"
   ]
  },
  {
   "cell_type": "code",
   "execution_count": 71,
   "id": "836c4146-f1a4-4fbc-9ed5-20972a97343e",
   "metadata": {},
   "outputs": [
    {
     "data": {
      "text/plain": [
       "3053"
      ]
     },
     "execution_count": 71,
     "metadata": {},
     "output_type": "execute_result"
    }
   ],
   "source": [
    "st = 7\n",
    "en = 9\n",
    "((datetime.time(hour=st) < dt['dtBegin'].dt.time) & (dt['dtBegin'].dt.time < datetime.time(hour=en))).sum()"
   ]
  },
  {
   "cell_type": "code",
   "execution_count": 72,
   "id": "8356d2db-1e0d-42a9-a9d3-59c20bf6d0bb",
   "metadata": {},
   "outputs": [
    {
     "data": {
      "text/plain": [
       "6632"
      ]
     },
     "execution_count": 72,
     "metadata": {},
     "output_type": "execute_result"
    }
   ],
   "source": [
    "st = 10\n",
    "en = 12\n",
    "((datetime.time(hour=st) < dt['dtBegin'].dt.time) & (dt['dtBegin'].dt.time < datetime.time(hour=en))).sum()"
   ]
  },
  {
   "cell_type": "code",
   "execution_count": 73,
   "id": "98c8e081-9494-406c-844b-dfd08dc67319",
   "metadata": {},
   "outputs": [
    {
     "data": {
      "text/plain": [
       "4543"
      ]
     },
     "execution_count": 73,
     "metadata": {},
     "output_type": "execute_result"
    }
   ],
   "source": [
    "st = 13\n",
    "en = 15\n",
    "((datetime.time(hour=st) < dt['dtBegin'].dt.time) & (dt['dtBegin'].dt.time < datetime.time(hour=en))).sum()"
   ]
  },
  {
   "cell_type": "code",
   "execution_count": 74,
   "id": "408c6b7c-2fdc-49eb-b97e-03e988ffbe07",
   "metadata": {},
   "outputs": [
    {
     "data": {
      "text/plain": [
       "3355"
      ]
     },
     "execution_count": 74,
     "metadata": {},
     "output_type": "execute_result"
    }
   ],
   "source": [
    "st = 14\n",
    "en = 16\n",
    "((datetime.time(hour=st) < dt['dtBegin'].dt.time) & (dt['dtBegin'].dt.time < datetime.time(hour=en))).sum()"
   ]
  },
  {
   "cell_type": "code",
   "execution_count": null,
   "id": "6ad6ab72-449a-488c-8653-e67f01b12e4e",
   "metadata": {},
   "outputs": [],
   "source": []
  }
 ],
 "metadata": {
  "kernelspec": {
   "display_name": "Python 3 (ipykernel)",
   "language": "python",
   "name": "python3"
  },
  "language_info": {
   "codemirror_mode": {
    "name": "ipython",
    "version": 3
   },
   "file_extension": ".py",
   "mimetype": "text/x-python",
   "name": "python",
   "nbconvert_exporter": "python",
   "pygments_lexer": "ipython3",
   "version": "3.9.18"
  }
 },
 "nbformat": 4,
 "nbformat_minor": 5
}
