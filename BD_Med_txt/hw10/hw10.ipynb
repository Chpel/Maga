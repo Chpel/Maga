{
 "cells": [
  {
   "cell_type": "markdown",
   "metadata": {},
   "source": [
    "# Question 1: (1 pt) CAD stands for:\n",
    "\n",
    "    A. Computer Advanced Diagnosis`\n",
    "    B. Computer Aided Diagnosis (+!)\n",
    "    C. Computerized Abnormality Detection\n",
    "    D. Cancer Advancement Detection\n"
   ]
  },
  {
   "cell_type": "markdown",
   "metadata": {},
   "source": [
    "\n",
    "# Question 2: (1 pt)\n",
    "The most principal step(s) in CAD is(are):\n",
    "\n",
    "    A. Identifying features\n",
    "    B. Developing classifier\n",
    "    C. Evaluating accuracy\n",
    "    D. All of the above (+!)"
   ]
  },
  {
   "cell_type": "markdown",
   "metadata": {},
   "source": [
    "# Question 3: (1 pt)\n",
    "LoG filter can be used to detect:\n",
    "\n",
    "    A. Liver\n",
    "    B. Background \n",
    "    C. Fractures \n",
    "    D. Noise\n",
    "    E. Gradients \n",
    "    F. Blobs (+)\n"
   ]
  },
  {
   "cell_type": "markdown",
   "metadata": {},
   "source": [
    "\n",
    "# Question 4: (1 pt)\n",
    "3TP CAD finds breast cancer using:\n",
    "\n",
    "    A. Red, green and blue pixels\n",
    "    B. Contrast wash-out slope\n",
    "    C. Blobs in breast texture (+)\n",
    "    D. Changes in patient temperature\n"
   ]
  },
  {
   "cell_type": "markdown",
   "metadata": {},
   "source": [
    "\n",
    "# Question 5: (1 pt)\n",
    "An image with black background contains a bright white square in the middle. What filter can be used to\n",
    "extract the square boundary?\n",
    "\n",
    "    A. Average \n",
    "    B. LoG\n",
    "    C. Bilateral \n",
    "    D. Edge (+?)\n"
   ]
  },
  {
   "cell_type": "markdown",
   "metadata": {},
   "source": [
    "\n",
    "# Question 6: (1 pt)\n",
    "Edge detection filter discussed in the class, can be computed as a weighted sum of image pixel values\n",
    "\n",
    "    A. True (+)\n",
    "    B. False"
   ]
  },
  {
   "cell_type": "markdown",
   "metadata": {},
   "source": [
    "# Question 7: (1 pt)\n",
    "LoG filter discussed in the class, can be computed as a weighted sum of image pixel values\n",
    "\n",
    "    A. True \n",
    "    B. False (+)"
   ]
  },
  {
   "cell_type": "markdown",
   "metadata": {},
   "source": [
    "\n",
    "# 2 Solve data problems\n",
    "Want to take some break from writing code?\n",
    "In this section, I will ask you to interpret my sample code for the “bone fracture CAD”, that we have discussed in the class. As I mentioned, this is a “proof of concept” code, nicely demonstrating how a very simple approach can outperform humans in locating specific structures in the images (line segments in our case).\n",
    "The main part of this code is shown below. Demonstrate your understanding of the underlying algorithm answering the following questions.\n",
    "Note: My code may not be ideal1, and provided only to illustrate certain steps of the algorithm. So please answer the questions based on your understanding of the algorithm.\n"
   ]
  },
  {
   "cell_type": "markdown",
   "metadata": {},
   "source": [
    "\n",
    "# Question 8: (3 pts)\n",
    "What is happening in line 149?\n",
    "\n",
    "    - We are skipping edge points which are not on a straight line\n",
    "    - We are skipping edge points with insufficient edge strength (+)\n",
    "    - We are skipping points with noise\n",
    "    - We are skipping points with darkest intensity in the original image"
   ]
  },
  {
   "cell_type": "markdown",
   "metadata": {},
   "source": [
    "# Question 9: (3 pts)\n",
    "In line 187, we are setting the nLines number to select\n",
    "\n",
    "    - The longest edges\n",
    "    - The shortest edges\n",
    "    - The least noisy edges\n",
    "    - The strongest edges (+)\n"
   ]
  },
  {
   "cell_type": "markdown",
   "metadata": {},
   "source": [
    "# Question 10: (3 pts)\n",
    "Decreasing the value of nSamples in the line 174 will result in\n",
    "\n",
    "    - Faster and more accurate fracture detection\n",
    "    - Longer and less accurate fracture detection\n",
    "    - Detecting more correct fractures (true positives)\n",
    "    - Detecting incorrect fractures (false positives) (+)"
   ]
  },
  {
   "cell_type": "markdown",
   "metadata": {},
   "source": [
    "# Question 11: (3 pts)\n",
    "In the line 166, we are excluding\n",
    "\n",
    "    - Edges that are too short (+)\n",
    "    - Barely visible edges\n",
    "    - Edges with significant noise\n",
    "    - Non-straight edges"
   ]
  },
  {
   "cell_type": "markdown",
   "metadata": {},
   "source": [
    "# Question 12: (3 pts)\n",
    "This code needs to be improved to detect edges corresponding to the constant x values (the bug I\n",
    "mentioned in the class). Which line has to be fixed?\n",
    "    \n",
    "    - 149 \n",
    "    - 164 \n",
    "    - 169 (+???)\n",
    "    - 185"
   ]
  },
  {
   "cell_type": "markdown",
   "metadata": {},
   "source": []
  }
 ],
 "metadata": {
  "language_info": {
   "name": "python"
  }
 },
 "nbformat": 4,
 "nbformat_minor": 2
}
