{
 "cells": [
  {
   "cell_type": "code",
   "execution_count": 1,
   "id": "49409518-4728-4bbf-8e1d-2c3bf83d23d0",
   "metadata": {},
   "outputs": [],
   "source": [
    "import pandas as pd\n",
    "import datetime"
   ]
  },
  {
   "cell_type": "code",
   "execution_count": 24,
   "id": "71ef95d7-6a33-4b19-82ff-b12c6912f5f8",
   "metadata": {},
   "outputs": [
    {
     "data": {
      "text/html": [
       "<div>\n",
       "<style scoped>\n",
       "    .dataframe tbody tr th:only-of-type {\n",
       "        vertical-align: middle;\n",
       "    }\n",
       "\n",
       "    .dataframe tbody tr th {\n",
       "        vertical-align: top;\n",
       "    }\n",
       "\n",
       "    .dataframe thead th {\n",
       "        text-align: right;\n",
       "    }\n",
       "</style>\n",
       "<table border=\"1\" class=\"dataframe\">\n",
       "  <thead>\n",
       "    <tr style=\"text-align: right;\">\n",
       "      <th></th>\n",
       "      <th>Arrival_Date</th>\n",
       "      <th>AgeYears</th>\n",
       "      <th>Temperature</th>\n",
       "      <th>BMI</th>\n",
       "      <th>AvgReading_Neuts_pct</th>\n",
       "      <th>Respiration_Rate</th>\n",
       "      <th>HasConnectiveTissueDisorderFLG</th>\n",
       "      <th>O2_Saturation</th>\n",
       "      <th>MaleFLG</th>\n",
       "      <th>Outcome_48Hours_Dispo</th>\n",
       "      <th>Rand</th>\n",
       "    </tr>\n",
       "  </thead>\n",
       "  <tbody>\n",
       "    <tr>\n",
       "      <th>0</th>\n",
       "      <td>2020-05-28</td>\n",
       "      <td>75.8</td>\n",
       "      <td>98.0</td>\n",
       "      <td>36.3</td>\n",
       "      <td>75.6</td>\n",
       "      <td>98</td>\n",
       "      <td>1</td>\n",
       "      <td>99</td>\n",
       "      <td>1</td>\n",
       "      <td>0</td>\n",
       "      <td>0.055920</td>\n",
       "    </tr>\n",
       "    <tr>\n",
       "      <th>1</th>\n",
       "      <td>2020-03-10</td>\n",
       "      <td>0.9</td>\n",
       "      <td>102.0</td>\n",
       "      <td>34.6</td>\n",
       "      <td>71.2</td>\n",
       "      <td>70</td>\n",
       "      <td>0</td>\n",
       "      <td>98</td>\n",
       "      <td>0</td>\n",
       "      <td>1</td>\n",
       "      <td>0.112461</td>\n",
       "    </tr>\n",
       "    <tr>\n",
       "      <th>2</th>\n",
       "      <td>2020-05-29</td>\n",
       "      <td>61.1</td>\n",
       "      <td>97.5</td>\n",
       "      <td>25.3</td>\n",
       "      <td>68.4</td>\n",
       "      <td>61</td>\n",
       "      <td>1</td>\n",
       "      <td>99</td>\n",
       "      <td>1</td>\n",
       "      <td>0</td>\n",
       "      <td>0.031409</td>\n",
       "    </tr>\n",
       "    <tr>\n",
       "      <th>3</th>\n",
       "      <td>2020-05-11</td>\n",
       "      <td>56.2</td>\n",
       "      <td>97.9</td>\n",
       "      <td>30.3</td>\n",
       "      <td>96.5</td>\n",
       "      <td>56</td>\n",
       "      <td>0</td>\n",
       "      <td>98</td>\n",
       "      <td>1</td>\n",
       "      <td>1</td>\n",
       "      <td>0.720525</td>\n",
       "    </tr>\n",
       "    <tr>\n",
       "      <th>4</th>\n",
       "      <td>2020-06-19</td>\n",
       "      <td>41.9</td>\n",
       "      <td>97.0</td>\n",
       "      <td>34.1</td>\n",
       "      <td>53.7</td>\n",
       "      <td>56</td>\n",
       "      <td>0</td>\n",
       "      <td>100</td>\n",
       "      <td>0</td>\n",
       "      <td>0</td>\n",
       "      <td>0.047407</td>\n",
       "    </tr>\n",
       "    <tr>\n",
       "      <th>...</th>\n",
       "      <td>...</td>\n",
       "      <td>...</td>\n",
       "      <td>...</td>\n",
       "      <td>...</td>\n",
       "      <td>...</td>\n",
       "      <td>...</td>\n",
       "      <td>...</td>\n",
       "      <td>...</td>\n",
       "      <td>...</td>\n",
       "      <td>...</td>\n",
       "      <td>...</td>\n",
       "    </tr>\n",
       "    <tr>\n",
       "      <th>5999</th>\n",
       "      <td>2020-06-30</td>\n",
       "      <td>68.0</td>\n",
       "      <td>97.4</td>\n",
       "      <td>27.3</td>\n",
       "      <td>58.4</td>\n",
       "      <td>8</td>\n",
       "      <td>0</td>\n",
       "      <td>98</td>\n",
       "      <td>1</td>\n",
       "      <td>0</td>\n",
       "      <td>0.046645</td>\n",
       "    </tr>\n",
       "    <tr>\n",
       "      <th>6000</th>\n",
       "      <td>2020-05-14</td>\n",
       "      <td>67.8</td>\n",
       "      <td>98.2</td>\n",
       "      <td>29.9</td>\n",
       "      <td>85.7</td>\n",
       "      <td>8</td>\n",
       "      <td>0</td>\n",
       "      <td>98</td>\n",
       "      <td>1</td>\n",
       "      <td>0</td>\n",
       "      <td>0.067205</td>\n",
       "    </tr>\n",
       "    <tr>\n",
       "      <th>6001</th>\n",
       "      <td>2020-06-08</td>\n",
       "      <td>63.6</td>\n",
       "      <td>95.3</td>\n",
       "      <td>31.7</td>\n",
       "      <td>60.2</td>\n",
       "      <td>7</td>\n",
       "      <td>0</td>\n",
       "      <td>98</td>\n",
       "      <td>1</td>\n",
       "      <td>0</td>\n",
       "      <td>0.049975</td>\n",
       "    </tr>\n",
       "    <tr>\n",
       "      <th>6002</th>\n",
       "      <td>2020-05-07</td>\n",
       "      <td>50.9</td>\n",
       "      <td>93.8</td>\n",
       "      <td>26.6</td>\n",
       "      <td>79.0</td>\n",
       "      <td>0</td>\n",
       "      <td>0</td>\n",
       "      <td>100</td>\n",
       "      <td>0</td>\n",
       "      <td>1</td>\n",
       "      <td>0.167167</td>\n",
       "    </tr>\n",
       "    <tr>\n",
       "      <th>6003</th>\n",
       "      <td>2020-04-04</td>\n",
       "      <td>66.8</td>\n",
       "      <td>98.9</td>\n",
       "      <td>43.9</td>\n",
       "      <td>55.6</td>\n",
       "      <td>0</td>\n",
       "      <td>1</td>\n",
       "      <td>97</td>\n",
       "      <td>0</td>\n",
       "      <td>0</td>\n",
       "      <td>0.053567</td>\n",
       "    </tr>\n",
       "  </tbody>\n",
       "</table>\n",
       "<p>6004 rows × 11 columns</p>\n",
       "</div>"
      ],
      "text/plain": [
       "     Arrival_Date  AgeYears  Temperature   BMI  AvgReading_Neuts_pct  \\\n",
       "0      2020-05-28      75.8         98.0  36.3                  75.6   \n",
       "1      2020-03-10       0.9        102.0  34.6                  71.2   \n",
       "2      2020-05-29      61.1         97.5  25.3                  68.4   \n",
       "3      2020-05-11      56.2         97.9  30.3                  96.5   \n",
       "4      2020-06-19      41.9         97.0  34.1                  53.7   \n",
       "...           ...       ...          ...   ...                   ...   \n",
       "5999   2020-06-30      68.0         97.4  27.3                  58.4   \n",
       "6000   2020-05-14      67.8         98.2  29.9                  85.7   \n",
       "6001   2020-06-08      63.6         95.3  31.7                  60.2   \n",
       "6002   2020-05-07      50.9         93.8  26.6                  79.0   \n",
       "6003   2020-04-04      66.8         98.9  43.9                  55.6   \n",
       "\n",
       "      Respiration_Rate  HasConnectiveTissueDisorderFLG  O2_Saturation  \\\n",
       "0                   98                               1             99   \n",
       "1                   70                               0             98   \n",
       "2                   61                               1             99   \n",
       "3                   56                               0             98   \n",
       "4                   56                               0            100   \n",
       "...                ...                             ...            ...   \n",
       "5999                 8                               0             98   \n",
       "6000                 8                               0             98   \n",
       "6001                 7                               0             98   \n",
       "6002                 0                               0            100   \n",
       "6003                 0                               1             97   \n",
       "\n",
       "      MaleFLG  Outcome_48Hours_Dispo      Rand  \n",
       "0           1                      0  0.055920  \n",
       "1           0                      1  0.112461  \n",
       "2           1                      0  0.031409  \n",
       "3           1                      1  0.720525  \n",
       "4           0                      0  0.047407  \n",
       "...       ...                    ...       ...  \n",
       "5999        1                      0  0.046645  \n",
       "6000        1                      0  0.067205  \n",
       "6001        1                      0  0.049975  \n",
       "6002        0                      1  0.167167  \n",
       "6003        0                      0  0.053567  \n",
       "\n",
       "[6004 rows x 11 columns]"
      ]
     },
     "execution_count": 24,
     "metadata": {},
     "output_type": "execute_result"
    }
   ],
   "source": [
    "dt = pd.read_csv('C:\\\\Users\\\\Admin\\\\Documents\\\\Github\\\\Maga\\\\datasets\\\\COVID_Data_Small.csv', delimiter=';', decimal=',')\n",
    "dt"
   ]
  },
  {
   "cell_type": "code",
   "execution_count": 25,
   "id": "bb98a692-24a1-40ba-a737-c2ec7f01ad2c",
   "metadata": {},
   "outputs": [],
   "source": [
    "dt['Arrival_Date'] = pd.to_datetime(dt.Arrival_Date)"
   ]
  },
  {
   "cell_type": "code",
   "execution_count": 115,
   "id": "bb04c76a-a713-4d1f-937d-725e5ce0bcb2",
   "metadata": {},
   "outputs": [
    {
     "data": {
      "text/plain": [
       "Arrival_Date                      datetime64[ns]\n",
       "AgeYears                                 float64\n",
       "Temperature                              float64\n",
       "BMI                                      float64\n",
       "AvgReading_Neuts_pct                     float64\n",
       "Respiration_Rate                           int64\n",
       "HasConnectiveTissueDisorderFLG             int64\n",
       "O2_Saturation                              int64\n",
       "MaleFLG                                    int64\n",
       "Outcome_48Hours_Dispo                      int64\n",
       "Rand                                     float64\n",
       "dtype: object"
      ]
     },
     "execution_count": 115,
     "metadata": {},
     "output_type": "execute_result"
    }
   ],
   "source": [
    "dt.dtypes"
   ]
  },
  {
   "cell_type": "markdown",
   "id": "24293695-622c-4359-8697-c531156d347d",
   "metadata": {},
   "source": [
    "# Question 8"
   ]
  },
  {
   "cell_type": "code",
   "execution_count": 106,
   "id": "ba3c06a8-91fa-48f9-a54e-11853bf24a9e",
   "metadata": {},
   "outputs": [],
   "source": [
    "d = datetime.now()"
   ]
  },
  {
   "cell_type": "code",
   "execution_count": 109,
   "id": "7fbc3edf-02f6-4e68-8812-de64e205b6de",
   "metadata": {},
   "outputs": [
    {
     "name": "stdout",
     "output_type": "stream",
     "text": [
      "2012-03-25 00:00:00\n"
     ]
    }
   ],
   "source": [
    "import os\n",
    "i = 0\n",
    "min_age = None\n",
    "for root, d_names, f_names in os.walk(Path.cwd() / 'Clinical_HL7_Samples'):\n",
    "    for f in f_names:\n",
    "        fil = open(root + '\\\\' + f, 'r')\n",
    "        has_m, has_d = False, False\n",
    "        for seg in fil:\n",
    "            if seg.startswith('MSH')==True:\n",
    "                msg_date = seg.split('|')[6]\n",
    "                if len(msg_date) >= 8:\n",
    "                    md0 = datetime.strptime(msg_date[:8],'%Y%m%d')\n",
    "                    has_m = True\n",
    "            if seg.startswith('PID')==True:\n",
    "                date, sex = seg.split('|')[7:9]\n",
    "                if len(date) == 8 and sex == 'M':\n",
    "                    d0 = datetime.strptime(date, '%Y%m%d')\n",
    "                    if has_m:\n",
    "                        age = md0 - d0\n",
    "                        if min_age is None or age < min_age:\n",
    "                            min_age = age\n",
    "                            d = d0\n",
    "        fil.close()\n",
    "\n",
    "print(d)"
   ]
  },
  {
   "cell_type": "markdown",
   "id": "9d027d1c-fb5c-43d2-967a-5bf221de7a28",
   "metadata": {},
   "source": [
    "# Question 9"
   ]
  },
  {
   "cell_type": "code",
   "execution_count": 121,
   "id": "05ea29c1-6289-43a4-beee-cf8430f5df2a",
   "metadata": {},
   "outputs": [],
   "source": [
    "from sklearn.tree import DecisionTreeClassifier,plot_tree\n"
   ]
  },
  {
   "cell_type": "code",
   "execution_count": 111,
   "id": "228930cb-1d37-4ec5-9a32-72f13e9d5fdd",
   "metadata": {},
   "outputs": [],
   "source": [
    "model = DecisionTreeClassifier(max_depth=2)"
   ]
  },
  {
   "cell_type": "code",
   "execution_count": 142,
   "id": "3b366ba0-6983-45b4-97db-184a66f3c567",
   "metadata": {},
   "outputs": [],
   "source": [
    "X = dt.drop(['Outcome_48Hours_Dispo','Arrival_Date', 'Rand', 'AgeYears', 'Temperature', 'BMI'], axis=1)\n",
    "y = dt['Outcome_48Hours_Dispo']"
   ]
  },
  {
   "cell_type": "code",
   "execution_count": 143,
   "id": "b576f5a3-6954-478c-bd41-b9104758c5ba",
   "metadata": {},
   "outputs": [
    {
     "data": {
      "text/html": [
       "<style>#sk-container-id-6 {color: black;}#sk-container-id-6 pre{padding: 0;}#sk-container-id-6 div.sk-toggleable {background-color: white;}#sk-container-id-6 label.sk-toggleable__label {cursor: pointer;display: block;width: 100%;margin-bottom: 0;padding: 0.3em;box-sizing: border-box;text-align: center;}#sk-container-id-6 label.sk-toggleable__label-arrow:before {content: \"▸\";float: left;margin-right: 0.25em;color: #696969;}#sk-container-id-6 label.sk-toggleable__label-arrow:hover:before {color: black;}#sk-container-id-6 div.sk-estimator:hover label.sk-toggleable__label-arrow:before {color: black;}#sk-container-id-6 div.sk-toggleable__content {max-height: 0;max-width: 0;overflow: hidden;text-align: left;background-color: #f0f8ff;}#sk-container-id-6 div.sk-toggleable__content pre {margin: 0.2em;color: black;border-radius: 0.25em;background-color: #f0f8ff;}#sk-container-id-6 input.sk-toggleable__control:checked~div.sk-toggleable__content {max-height: 200px;max-width: 100%;overflow: auto;}#sk-container-id-6 input.sk-toggleable__control:checked~label.sk-toggleable__label-arrow:before {content: \"▾\";}#sk-container-id-6 div.sk-estimator input.sk-toggleable__control:checked~label.sk-toggleable__label {background-color: #d4ebff;}#sk-container-id-6 div.sk-label input.sk-toggleable__control:checked~label.sk-toggleable__label {background-color: #d4ebff;}#sk-container-id-6 input.sk-hidden--visually {border: 0;clip: rect(1px 1px 1px 1px);clip: rect(1px, 1px, 1px, 1px);height: 1px;margin: -1px;overflow: hidden;padding: 0;position: absolute;width: 1px;}#sk-container-id-6 div.sk-estimator {font-family: monospace;background-color: #f0f8ff;border: 1px dotted black;border-radius: 0.25em;box-sizing: border-box;margin-bottom: 0.5em;}#sk-container-id-6 div.sk-estimator:hover {background-color: #d4ebff;}#sk-container-id-6 div.sk-parallel-item::after {content: \"\";width: 100%;border-bottom: 1px solid gray;flex-grow: 1;}#sk-container-id-6 div.sk-label:hover label.sk-toggleable__label {background-color: #d4ebff;}#sk-container-id-6 div.sk-serial::before {content: \"\";position: absolute;border-left: 1px solid gray;box-sizing: border-box;top: 0;bottom: 0;left: 50%;z-index: 0;}#sk-container-id-6 div.sk-serial {display: flex;flex-direction: column;align-items: center;background-color: white;padding-right: 0.2em;padding-left: 0.2em;position: relative;}#sk-container-id-6 div.sk-item {position: relative;z-index: 1;}#sk-container-id-6 div.sk-parallel {display: flex;align-items: stretch;justify-content: center;background-color: white;position: relative;}#sk-container-id-6 div.sk-item::before, #sk-container-id-6 div.sk-parallel-item::before {content: \"\";position: absolute;border-left: 1px solid gray;box-sizing: border-box;top: 0;bottom: 0;left: 50%;z-index: -1;}#sk-container-id-6 div.sk-parallel-item {display: flex;flex-direction: column;z-index: 1;position: relative;background-color: white;}#sk-container-id-6 div.sk-parallel-item:first-child::after {align-self: flex-end;width: 50%;}#sk-container-id-6 div.sk-parallel-item:last-child::after {align-self: flex-start;width: 50%;}#sk-container-id-6 div.sk-parallel-item:only-child::after {width: 0;}#sk-container-id-6 div.sk-dashed-wrapped {border: 1px dashed gray;margin: 0 0.4em 0.5em 0.4em;box-sizing: border-box;padding-bottom: 0.4em;background-color: white;}#sk-container-id-6 div.sk-label label {font-family: monospace;font-weight: bold;display: inline-block;line-height: 1.2em;}#sk-container-id-6 div.sk-label-container {text-align: center;}#sk-container-id-6 div.sk-container {/* jupyter's `normalize.less` sets `[hidden] { display: none; }` but bootstrap.min.css set `[hidden] { display: none !important; }` so we also need the `!important` here to be able to override the default hidden behavior on the sphinx rendered scikit-learn.org. See: https://github.com/scikit-learn/scikit-learn/issues/21755 */display: inline-block !important;position: relative;}#sk-container-id-6 div.sk-text-repr-fallback {display: none;}</style><div id=\"sk-container-id-6\" class=\"sk-top-container\"><div class=\"sk-text-repr-fallback\"><pre>DecisionTreeClassifier(max_depth=2)</pre><b>In a Jupyter environment, please rerun this cell to show the HTML representation or trust the notebook. <br />On GitHub, the HTML representation is unable to render, please try loading this page with nbviewer.org.</b></div><div class=\"sk-container\" hidden><div class=\"sk-item\"><div class=\"sk-estimator sk-toggleable\"><input class=\"sk-toggleable__control sk-hidden--visually\" id=\"sk-estimator-id-6\" type=\"checkbox\" checked><label for=\"sk-estimator-id-6\" class=\"sk-toggleable__label sk-toggleable__label-arrow\">DecisionTreeClassifier</label><div class=\"sk-toggleable__content\"><pre>DecisionTreeClassifier(max_depth=2)</pre></div></div></div></div></div>"
      ],
      "text/plain": [
       "DecisionTreeClassifier(max_depth=2)"
      ]
     },
     "execution_count": 143,
     "metadata": {},
     "output_type": "execute_result"
    }
   ],
   "source": [
    "model.fit(X,y)"
   ]
  },
  {
   "cell_type": "code",
   "execution_count": 144,
   "id": "2cbb0016-7e44-435c-8f13-3aba43ea47b1",
   "metadata": {},
   "outputs": [
    {
     "data": {
      "text/plain": [
       "[Text(0.5, 0.8333333333333334, 'x[0] <= 73.15\\ngini = 0.477\\nsamples = 6004\\nvalue = [3647, 2357]'),\n",
       " Text(0.25, 0.5, 'x[1] <= 19.5\\ngini = 0.407\\nsamples = 3186\\nvalue = [2280, 906]'),\n",
       " Text(0.125, 0.16666666666666666, 'gini = 0.366\\nsamples = 2092\\nvalue = [1588, 504]'),\n",
       " Text(0.375, 0.16666666666666666, 'gini = 0.465\\nsamples = 1094\\nvalue = [692, 402]'),\n",
       " Text(0.75, 0.5, 'x[1] <= 25.5\\ngini = 0.5\\nsamples = 2818\\nvalue = [1367, 1451]'),\n",
       " Text(0.625, 0.16666666666666666, 'gini = 0.5\\nsamples = 2458\\nvalue = [1264, 1194]'),\n",
       " Text(0.875, 0.16666666666666666, 'gini = 0.409\\nsamples = 360\\nvalue = [103, 257]')]"
      ]
     },
     "execution_count": 144,
     "metadata": {},
     "output_type": "execute_result"
    },
    {
     "data": {
      "image/png": "[encoded data removed]",
      "text/plain": [
       "<Figure size 640x480 with 1 Axes>"
      ]
     },
     "metadata": {},
     "output_type": "display_data"
    }
   ],
   "source": [
    "plot_tree(model)"
   ]
  },
  {
   "cell_type": "code",
   "execution_count": 145,
   "id": "b7c5f673-da70-404e-9c38-73dd419787b0",
   "metadata": {},
   "outputs": [
    {
     "data": {
      "text/plain": [
       "Index(['AvgReading_Neuts_pct', 'Respiration_Rate',\n",
       "       'HasConnectiveTissueDisorderFLG', 'O2_Saturation', 'MaleFLG'],\n",
       "      dtype='object')"
      ]
     },
     "execution_count": 145,
     "metadata": {},
     "output_type": "execute_result"
    }
   ],
   "source": [
    "X.columns"
   ]
  },
  {
   "cell_type": "code",
   "execution_count": null,
   "id": "3d947fd4-c459-4634-b5a4-8f18ce28e746",
   "metadata": {},
   "outputs": [],
   "source": []
  }
 ],
 "metadata": {
  "kernelspec": {
   "display_name": "Python 3 (ipykernel)",
   "language": "python",
   "name": "python3"
  },
  "language_info": {
   "codemirror_mode": {
    "name": "ipython",
    "version": 3
   },
   "file_extension": ".py",
   "mimetype": "text/x-python",
   "name": "python",
   "nbconvert_exporter": "python",
   "pygments_lexer": "ipython3",
   "version": "3.9.18"
  }
 },
 "nbformat": 4,
 "nbformat_minor": 5
}
